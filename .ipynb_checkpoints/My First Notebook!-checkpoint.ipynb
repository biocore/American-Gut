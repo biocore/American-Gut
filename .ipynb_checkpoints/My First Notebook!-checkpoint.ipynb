{
 "metadata": {
  "name": ""
 },
 "nbformat": 3,
 "nbformat_minor": 0,
 "worksheets": [
  {
   "cells": [
    {
     "cell_type": "code",
     "collapsed": false,
     "input": [
      "%pylab inline\n",
      "from matplotlib import rcParams\n",
      "rcParams['backend']"
     ],
     "language": "python",
     "metadata": {},
     "outputs": [
      {
       "output_type": "stream",
       "stream": "stdout",
       "text": [
        "Populating the interactive namespace from numpy and matplotlib\n"
       ]
      },
      {
       "metadata": {},
       "output_type": "pyout",
       "prompt_number": 99,
       "text": [
        "'module://IPython.kernel.zmq.pylab.backend_inline'"
       ]
      }
     ],
     "prompt_number": 99
    },
    {
     "cell_type": "code",
     "collapsed": false,
     "input": [
      "# Loads the dependencies\n",
      "from biom.parse import parse_biom_table\n",
      "from americangut.make_phyla_plots import (map_to_2D_dict,\n",
      "                                          render_barchart,\n",
      "                                          summarize_common_categories,\n",
      "                                          load_category_files,\n",
      "                                          parse_category_files)\n",
      "from os.path import isfile, exists, join as pjoin\n",
      "from os import mkdir\n",
      "from numpy import zeros, mean, array, arange\n",
      "from matplotlib.transforms import Bbox\n",
      "from matplotlib.font_manager import FontProperties"
     ],
     "language": "python",
     "metadata": {},
     "outputs": [],
     "prompt_number": 55
    },
    {
     "cell_type": "code",
     "collapsed": false,
     "input": [
      "# Sets up constants\n",
      "LEVEL = 2\n",
      "CATEGORY = 'taxonomy'\n",
      "NUM_TAXA = 9\n",
      "NUM_CATS_TO_PLOT = 7\n",
      "MICHAEL_POLLAN = '000007108.1075657'\n",
      "FILEPREFIX = 'Figure_4_'\n",
      "FILE_END = '.pdf'\n",
      "COMMON_TAXA = [(u'k__Bacteria', u' p__Firmicutes'),\n",
      "                   (u'k__Bacteria', u' p__Bacteroidetes'),\n",
      "                   (u'k__Bacteria', u' p__Proteobacteria'),\n",
      "                   (u'k__Bacteria', u' p__Actinobacteria'),\n",
      "                   (u'k__Bacteria', u' p__Verrucomicrobia'),\n",
      "                   (u'k__Bacteria', u' p__Tenericutes'),\n",
      "                   (u'k__Bacteria', u' p__Cyanobacteria'),\n",
      "                   (u'k__Bacteria', u' p__Fusobacteria')]\n",
      "CAT_LIST = ['You', 'Average', 'Similar Diet', ' Similar BMI', \n",
      "            'Same Gender', 'Similar Age', 'Michael Pollan']\n",
      "COLORMAP = array([[0.8353, 0.2421, 0.3098],\n",
      "                  [0.9569, 0.4275, 0.2627],\n",
      "                  [0.9922, 0.6824, 0.3804],\n",
      "                  [0.9961, 0.8784, 0.5351],\n",
      "                  [0.9020, 0.9608, 0.5961],\n",
      "                  [0.6706, 0.8667, 0.6431],\n",
      "                  [0.4000, 0.7608, 0.6471],\n",
      "                  [0.1961, 0.5333, 0.7412],\n",
      "                  [0.3333, 0.3333, 0.3333]])\n",
      "\n",
      "FIG_DIMS = (4.44444, 3.33333)\n",
      "\n",
      "AXIS_DIMS = array([[0.05, 0.05],\n",
      "                   [0.95, 0.95]])"
     ],
     "language": "python",
     "metadata": {},
     "outputs": []
    },
    {
     "cell_type": "code",
     "collapsed": false,
     "input": [
      "# Loads the otu_file and parses it into summarized tables\n",
      "otu_file = '/Users/jwdebelius/Desktop/PythonTest1021/BODY_SITE_SPLIT/feces.biom'\n",
      "otu_table = parse_biom_table(open(otu_file,'U'))\n",
      "[whole_sample_ids, whole_summary, new_common_taxa] = summarize_common_categories(otu_table, \n",
      "                                                        level = LEVEL, \n",
      "                                                        common_categories = COMMON_TAXA[:8], \n",
      "                                                        metadata_category = CATEGORY)"
     ],
     "language": "python",
     "metadata": {},
     "outputs": [],
     "prompt_number": 23
    },
    {
     "cell_type": "code",
     "collapsed": false,
     "input": [
      "# Gets the mapping file\n",
      "map_file = '/Users/jwdebelius/Desktop/PythonTest1021/BODY_SITE_SPLIT/mapping_feces.txt'\n",
      "map_dict = map_to_2D_dict(open(map_file, 'U'))\n",
      "\n",
      "# Gets the output directory set up\n",
      "output_dir = '/Users/jwdebelius/Desktop/'\n",
      "\n"
     ],
     "language": "python",
     "metadata": {},
     "outputs": [],
     "prompt_number": 19
    },
    {
     "cell_type": "code",
     "collapsed": false,
     "input": [
      "# Gets the categorical data formatted and useful\n",
      "category_files = {'DIET_TYPE':'/Users/jwdebelius/Desktop/PythonTest1021/FecesCategories/DIET_TYPE.biom',\n",
      "                  'AGE_CAT'  :'/Users/jwdebelius/Desktop/PythonTest1021/FecesCategories/AGE_CAT.biom',\n",
      "                  'BMI_CAT'  :'/Users/jwdebelius/Desktop/PythonTest1021/FecesCategories/BMI_CAT.biom',\n",
      "                  'SEX'      :'/Users/jwdebelius/Desktop/PythonTest1021/FecesCategories/SEX.biom'}\n",
      "cat_tables = load_category_files(category_files)\n",
      "print 'Category keys: %r' % cat_tables.keys()\n",
      "\n",
      "categories = parse_category_files(cat_tables, COMMON_TAXA, 2, CATEGORY)\n"
     ],
     "language": "python",
     "metadata": {},
     "outputs": [
      {
       "output_type": "stream",
       "stream": "stdout",
       "text": [
        "Category keys: ['DIET_TYPE', 'BMI_CAT', 'AGE_CAT', 'SEX']\n"
       ]
      }
     ],
     "prompt_number": 20
    },
    {
     "cell_type": "code",
     "collapsed": false,
     "input": [
      "# Converts final taxa to a clean list\n",
      "common_phyla = []\n",
      "for taxon in new_common_taxa: \n",
      "    common_phyla.append(taxon[1].strip(' p__').strip('[').strip(']'))\n",
      "new_common_taxa = common_phyla"
     ],
     "language": "python",
     "metadata": {},
     "outputs": [
      {
       "ename": "IndexError",
       "evalue": "string index out of range",
       "output_type": "pyerr",
       "traceback": [
        "\u001b[0;31m---------------------------------------------------------------------------\u001b[0m\n\u001b[0;31mIndexError\u001b[0m                                Traceback (most recent call last)",
        "\u001b[0;32m<ipython-input-26-680d001d2510>\u001b[0m in \u001b[0;36m<module>\u001b[0;34m()\u001b[0m\n\u001b[1;32m      2\u001b[0m \u001b[0mcommon_phyla\u001b[0m \u001b[0;34m=\u001b[0m \u001b[0;34m[\u001b[0m\u001b[0;34m]\u001b[0m\u001b[0;34m\u001b[0m\u001b[0m\n\u001b[1;32m      3\u001b[0m \u001b[0;32mfor\u001b[0m \u001b[0mtaxon\u001b[0m \u001b[0;32min\u001b[0m \u001b[0mnew_common_taxa\u001b[0m\u001b[0;34m:\u001b[0m\u001b[0;34m\u001b[0m\u001b[0m\n\u001b[0;32m----> 4\u001b[0;31m     \u001b[0mcommon_phyla\u001b[0m\u001b[0;34m.\u001b[0m\u001b[0mappend\u001b[0m\u001b[0;34m(\u001b[0m\u001b[0mtaxon\u001b[0m\u001b[0;34m[\u001b[0m\u001b[0;36m1\u001b[0m\u001b[0;34m]\u001b[0m\u001b[0;34m.\u001b[0m\u001b[0mstrip\u001b[0m\u001b[0;34m(\u001b[0m\u001b[0;34m' p__'\u001b[0m\u001b[0;34m)\u001b[0m\u001b[0;34m.\u001b[0m\u001b[0mstrip\u001b[0m\u001b[0;34m(\u001b[0m\u001b[0;34m'['\u001b[0m\u001b[0;34m)\u001b[0m\u001b[0;34m.\u001b[0m\u001b[0mstrip\u001b[0m\u001b[0;34m(\u001b[0m\u001b[0;34m']'\u001b[0m\u001b[0;34m)\u001b[0m\u001b[0;34m)\u001b[0m\u001b[0;34m\u001b[0m\u001b[0m\n\u001b[0m\u001b[1;32m      5\u001b[0m \u001b[0mnew_common_taxa\u001b[0m \u001b[0;34m=\u001b[0m \u001b[0mcommon_phyla\u001b[0m\u001b[0;34m\u001b[0m\u001b[0m\n\u001b[1;32m      6\u001b[0m \u001b[0;34m\u001b[0m\u001b[0m\n",
        "\u001b[0;31mIndexError\u001b[0m: string index out of range"
       ]
      }
     ],
     "prompt_number": 26
    },
    {
     "cell_type": "code",
     "collapsed": false,
     "input": [
      "# Sets up the sample to plot\n",
      "sample_ids = ['000003022.1076269']\n",
      "\n",
      "# Gets Michael Pollan's information for pre-ABX samples\n",
      "mp_sample_pos = whole_sample_ids.index(MICHAEL_POLLAN)\n",
      "print 'Micahel Pollans sample position: %r' % mp_sample_pos\n",
      "mp_sample_taxa = whole_summary[:,mp_sample_pos]\n",
      "\n",
      "# Gets hte sample id position\n",
      "sample_id_pos = whole_sample_ids.index(sample_ids[0])\n",
      "print 'Subject Sample position: %r' % sample_id_pos\n",
      "metadata = map_dict[sample_ids[0]]\n"
     ],
     "language": "python",
     "metadata": {},
     "outputs": [
      {
       "output_type": "stream",
       "stream": "stdout",
       "text": [
        "Micahel Pollans sample position: 51\n",
        "Subject Sample position: 48\n"
       ]
      }
     ],
     "prompt_number": 36
    },
    {
     "cell_type": "code",
     "collapsed": false,
     "input": [
      "# Creates the tax array\n",
      "tax_array = zeros((NUM_TAXA, NUM_CATS_TO_PLOT))\n",
      "tax_array[:,0] = whole_summary[:,sample_id_pos]\n",
      "tax_array[:,1] = mean(whole_summary,1)\n",
      "\n",
      "cat_watch = 2\n",
      "for cat in categories:\n",
      "    print 'Metadata Category: ', cat\n",
      "    mapping_key = metadata[cat]\n",
      "    print mapping_key\n",
      "    tax_summary = categories[cat]['Summary']\n",
      "    group_descriptions = categories[cat]['Groups']\n",
      "    # Appends plotting table\n",
      "    try:\n",
      "        mapping_col = group_descriptions.index(mapping_key)\n",
      "    except:\n",
      "        raise ValueError, 'The %s cannot be found in %s.' % (mapping_key, cat)\n",
      "    \n",
      "    tax_array[:,cat_watch] = tax_summary[:,mapping_col]\n",
      "    cat_watch = cat_watch + 1\n",
      "    \n",
      "tax_array[:,-1] = mp_sample_taxa"
     ],
     "language": "python",
     "metadata": {},
     "outputs": [
      {
       "output_type": "stream",
       "stream": "stdout",
       "text": [
        "Metadata Category:  DIET_TYPE\n",
        "Omnivore\n",
        "Metadata Category:  BMI_CAT\n",
        "Normal\n",
        "Metadata Category:  SEX\n",
        "female\n",
        "Metadata Category:  AGE_CAT\n",
        "40s\n"
       ]
      }
     ],
     "prompt_number": 38
    },
    {
     "cell_type": "code",
     "collapsed": false,
     "input": [
      "filename = pjoin(output_dir, '%s%s%s' %(FILEPREFIX, sample_ids[0], FILE_END))\n",
      "print filename\n"
     ],
     "language": "python",
     "metadata": {},
     "outputs": [
      {
       "output_type": "stream",
       "stream": "stdout",
       "text": [
        "/Users/jwdebelius/Desktop/Figure_4_000003022.1076269.pdf\n"
       ]
      }
     ],
     "prompt_number": 39
    },
    {
     "cell_type": "code",
     "collapsed": false,
     "input": [
      "# Sets up variables for running the plotting function\n",
      "data_table = tax_array\n",
      "group_names = new_common_taxa\n",
      "sample_names = CAT_LIST\n",
      "axis_dims = AXIS_DIMS\n",
      "fig_dims = FIG_DIMS\n",
      "file_out = filename\n",
      "colors = COLORMAP\n",
      "show_edge = False\n",
      "legend = False\n",
      "x_axis = False\n",
      "y_axis = False\n",
      "\n",
      "# Sets up constants\n",
      "filetype = 'PDF'\n",
      "title = None\n",
      "match_legend = True\n",
      "frame = True\n",
      "bar_width = 0.8\n",
      "x_label = None\n",
      "x_min = -0.5\n",
      "x_tick_interval = 1\n",
      "x_grid = False\n",
      "y_lims = [0, 1]\n",
      "y_tick_interval = 0.2\n",
      "y_tick_labels = None\n",
      "y_label = None\n",
      "y_grid = False\n",
      "legend_frame = False\n",
      "legend_offset = None\n",
      "font_angle = 45\n",
      "font_alignment = 'right'\n",
      "tick_font = None\n",
      "label_font = None\n",
      "legend_font = None\n",
      "title_font = None"
     ],
     "language": "python",
     "metadata": {},
     "outputs": [],
     "prompt_number": 128
    },
    {
     "cell_type": "code",
     "collapsed": false,
     "input": [
      "# Preforms sanity check on the shape of the data\n",
      "(table_height, table_width) = data_table.shape\n",
      "num_cats = len(group_names)\n",
      "num_samples = len(sample_names)\n",
      "print 'Table Height: %r' % table_height\n",
      "print 'Table Width: %r' % table_width\n",
      "print 'Number of Categories: %r' % num_cats\n",
      "print 'Number of Samples: %r' % num_samples\n",
      "\n",
      "# Preforms a sanity check on the colors\n",
      "num_colors = len(colors[:,0])\n",
      "print '\\nNumber of Colors in the colormap: %r' % num_colors\n",
      "if not 'ndarray' in str(type(colors)):\n",
      "        raise TypeError ('The colormap must be a numpy array.')\n",
      "elif num_colors == 1:\n",
      "    colormap = colors*ones((table_height,1))\n",
      "elif num_colors >= table_height:\n",
      "    colormap = colors \n",
      "else:\n",
      "    raise ValueError, ('The color map cannot be determined. \\nColors must '\n",
      "            'be a a list of n x 3 lists where n is the number of patches being'\n",
      "            ' supplied or a single color to be used for all patches.')"
     ],
     "language": "python",
     "metadata": {},
     "outputs": [
      {
       "output_type": "stream",
       "stream": "stdout",
       "text": [
        "Table Height: 9\n",
        "Table Width: 7\n",
        "Number of Categories: 9\n",
        "Number of Samples: 7\n",
        "\n",
        "Number of Colors in the colormap: 9\n"
       ]
      }
     ],
     "prompt_number": 129
    },
    {
     "cell_type": "code",
     "collapsed": false,
     "input": [
      "# Sets up preset values based on input variables\n",
      "if show_edge == True:\n",
      "    edgecolor = zeros(num_cats, 3)\n",
      "else:\n",
      "    edgecolor = colormap\n",
      "        \n",
      "# Sets up fonts\n",
      "if label_font == None:\n",
      "    label_font = FontProperties()\n",
      "    label_font.set_size(20)\n",
      "    label_font.set_family('sans-serif')\n",
      "    label_font.set_style('italic')\n",
      "    \n",
      "if legend_font == None:\n",
      "    legend_font = FontProperties()\n",
      "    legend_font.set_size(15)\n",
      "    legend_font.set_family('sans-serif')\n",
      "\n",
      "if tick_font == None:\n",
      "    tick_font = FontProperties()\n",
      "    tick_font.set_size(15)\n",
      "    tick_font.set_family('sans-serif')\n",
      "\n",
      "if title_font == None:\n",
      "    title_font = FontProperties()\n",
      "    title_font.set_size(30)\n",
      "    title_font.set_family('sans-serif')\n",
      "    \n",
      "\n",
      "# Sets up the x ticks.\n",
      "# Bar width is divided by two because the tick is assumed to be at the \n",
      "# center of the bar.\n",
      "x_tick = arange(num_samples)\n",
      "x_max = x_min + num_samples*x_tick_interval    \n",
      "bar_left = x_tick - bar_width/2\n",
      "\n",
      "# Creates the x tick labels.\n",
      "if x_axis == True:\n",
      "    x_text_labels = [str(lab) for lab in sample_names] \n",
      "else:\n",
      "    x_text_labels = ['']*num_samples\n",
      "       \n",
      "    \n",
      "# Creates the y tick labels\n",
      "if y_tick_labels == None:\n",
      "    y_tick_labels = arange(y_lims[1] + y_tick_interval, y_lims[0], -y_tick_interval)\n",
      "    y_tick_labels = y_tick_labels - y_tick_interval\n",
      "    y_tick_labels[-1] = y_lims[0]\n",
      "    \n",
      "num_y_ticks = len(y_tick_labels)\n",
      "\n",
      "if y_axis == True:\n",
      "    y_text_labels = [str(e) for e in y_tick_labels]\n",
      "else:\n",
      "    y_text_labels = ['']*num_y_ticks\n",
      "\n",
      "\n",
      "# Creates the grid information    \n",
      "if x_grid and y_grid:\n",
      "    which_axis = 'both'\n",
      "elif x_grid:\n",
      "    which_axis = 'x'\n",
      "elif y_grid:\n",
      "    which_axis = 'y'\n",
      "else:\n",
      "    which_axis = None"
     ],
     "language": "python",
     "metadata": {},
     "outputs": [],
     "prompt_number": 130
    },
    {
     "cell_type": "markdown",
     "metadata": {},
     "source": [
      "Creates the plot protion of the figure (this is where we're having trouble!)\n"
     ]
    },
    {
     "cell_type": "code",
     "collapsed": false,
     "input": [
      "# Sets up the figure and axis dimensions\n",
      "fig = plt.figure()\n",
      "fig.set_size_inches(fig_dims)\n",
      "ax1 = plt.axes(Bbox(axis_dims))\n",
      "\n",
      "# Plots the bar chart\n",
      "patches_watch = []\n",
      "for plot_count, data_vec in enumerate(data_table):\n",
      "    already = arange(plot_count)    \n",
      "    if plot_count == 0:\n",
      "        bottom_bar = [0]*table_width\n",
      "    else:\n",
      "        bottom_bar = sum(data_table[already,:],0)\n",
      "   \n",
      "    faces = plt.bar(left = bar_left, height=data_vec,\n",
      "            width=bar_width, bottom=bottom_bar,\n",
      "            color = colormap[plot_count,:],\n",
      "            edgecolor = edgecolor[plot_count,:]) \n",
      "    patches_watch.append(faces[0])\n",
      "  \n",
      "if match_legend == True:\n",
      "    ax1.set_xlim(x_min, x_max)\n",
      "    ax1.set_ylim(y_lims[1], y_lims[0])\n",
      "    \n",
      "y_tick_labels = ax1.set_yticklabels(y_text_labels, fontproperties = tick_font)\n",
      "if not y_label == None:\n",
      "        ax1.set_ylabel(y_label, fontproperties = label_font)\n",
      "        \n",
      "print x_text_labels\n",
      "\n",
      "ax1.set_xticklabels(x_text_labels, \n",
      "                    fontproperties = tick_font,\n",
      "                    rotation = font_angle,\n",
      "                    horizontalalignment = font_alignment)\n",
      "print x_label\n",
      "if not x_label == None:\n",
      "        ax1.set_xlabel(x_label, fontproperties = label_font)\n",
      "        \n",
      "plt.draw()\n"
     ],
     "language": "python",
     "metadata": {},
     "outputs": [
      {
       "output_type": "stream",
       "stream": "stdout",
       "text": [
        "['', '', '', '', '', '', '']\n",
        "(None,)\n"
       ]
      },
      {
       "metadata": {},
       "output_type": "display_data",
       "png": "[encoded data removed]",
       "text": [
        "<matplotlib.figure.Figure at 0x11421d1d0>"
       ]
      }
     ],
     "prompt_number": 135
    },
    {
     "cell_type": "code",
     "collapsed": false,
     "input": [],
     "language": "python",
     "metadata": {},
     "outputs": [],
     "prompt_number": 131
    },
    {
     "cell_type": "code",
     "collapsed": false,
     "input": [],
     "language": "python",
     "metadata": {},
     "outputs": [],
     "prompt_number": 120
    },
    {
     "cell_type": "code",
     "collapsed": false,
     "input": [],
     "language": "python",
     "metadata": {},
     "outputs": []
    }
   ],
   "metadata": {}
  }
 ]
}