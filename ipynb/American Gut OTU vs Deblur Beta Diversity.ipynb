{
 "cells": [
  {
   "cell_type": "markdown",
   "metadata": {},
   "source": [
    "# American Gut OTU vs Deblur "
   ]
  },
  {
   "cell_type": "markdown",
   "metadata": {},
   "source": [
    "This notebook is a part of a group of several notebooks that will explore any differences that may exist between OTU and deblur forms of analysis of the American Gut cohort.\n"
   ]
  },
  {
   "cell_type": "markdown",
   "metadata": {},
   "source": [
    "Import dependencies:"
   ]
  },
  {
   "cell_type": "code",
   "execution_count": 7,
   "metadata": {
    "collapsed": true
   },
   "outputs": [],
   "source": [
    "import qiime \n",
    "import pandas as pd\n",
    "import numpy as np\n",
    "import skbio"
   ]
  },
  {
   "cell_type": "markdown",
   "metadata": {},
   "source": [
    "## Beta Diversity"
   ]
  },
  {
   "cell_type": "markdown",
   "metadata": {},
   "source": [
    "We begin this comparison by running the Beta Diversity of both the OTU and Deblur data. We will then visualize both data sets using Emperor PCoA plots. Finally, we will perform a procrustes analysis between both sets of data. (described in more detail below)"
   ]
  },
  {
   "cell_type": "markdown",
   "metadata": {},
   "source": [
    "#### OTUs (unweighted)"
   ]
  },
  {
   "cell_type": "markdown",
   "metadata": {},
   "source": [
    "Download unweighted principal coordinates and metadata June 23 data from the ftp site in order to create emperor plot of beta diversity:"
   ]
  },
  {
   "cell_type": "code",
   "execution_count": null,
   "metadata": {
    "collapsed": false
   },
   "outputs": [
    {
     "name": "stdout",
     "output_type": "stream",
     "text": [
      "  % Total    % Received % Xferd  Average Speed   Time    Time     Time  Current\n",
      "                                 Dload  Upload   Total   Spent    Left  Speed\n",
      " 21  378M   21 81.8M    0     0  8764k      0  0:00:44  0:00:09  0:00:35 9088k"
     ]
    }
   ],
   "source": [
    "!curl -OL ftp://ftp.microbio.me/AmericanGut/ag-June-23-2016/06-beta/notrim/10k/ag/unweighted_unifrac_ag-pc.txt\n",
    "!curl -OL ftp://ftp.microbio.me/AmericanGut/ag-June-23-2016/01-raw/metadata.txt"
   ]
  },
  {
   "cell_type": "markdown",
   "metadata": {},
   "source": [
    "Create OTU unweighted Emerperor PCoA plot:"
   ]
  },
  {
   "cell_type": "code",
   "execution_count": null,
   "metadata": {
    "collapsed": false
   },
   "outputs": [],
   "source": [
    "!make_emperor.py -i \"unweighted_unifrac_ag-pc.txt\" -m \"metadata.txt\" -o \"emperor_OTU-unweighted\""
   ]
  },
  {
   "cell_type": "markdown",
   "metadata": {},
   "source": [
    "#### OTUs (weighted)"
   ]
  },
  {
   "cell_type": "markdown",
   "metadata": {},
   "source": [
    "Download weighted principal coordinates June 23 data from the ftp site in order to create emperor plot of beta diversity."
   ]
  },
  {
   "cell_type": "code",
   "execution_count": null,
   "metadata": {
    "collapsed": false
   },
   "outputs": [],
   "source": [
    "!curl -OL ftp://ftp.microbio.me/AmericanGut/ag-June-23-2016/06-beta/notrim/10k/ag/weighted_unifrac_ag-pc.txt"
   ]
  },
  {
   "cell_type": "markdown",
   "metadata": {},
   "source": [
    "Create OTU weighted Emerperor PCoA plot to visualize beta diversity (3D):"
   ]
  },
  {
   "cell_type": "code",
   "execution_count": null,
   "metadata": {
    "collapsed": true
   },
   "outputs": [],
   "source": [
    "!make_emperor.py -i \"weighted_unifrac_ag-pc.txt\" -m \"metadata.txt\" -o \"emperor_OTU-weighted\""
   ]
  },
  {
   "cell_type": "markdown",
   "metadata": {},
   "source": [
    "#### Deblur (unweighted)"
   ]
  },
  {
   "cell_type": "markdown",
   "metadata": {},
   "source": [
    "Secure copy the deblur files from barnacle using command line in terminal to establish a secure connection: scp jgeier@barnacle.ucsd.edu:/home/jona1883/scratch/AG_paper_deblurred_july_22_2016/bdiv/neg_even2k_unw_unifrac/unweighted_unifrac_ag.deblur.neg.min10.withtax.bloom.filtered.even2000_pc.txt /Users/justingeier/Documents/Justine_AG\n",
    "\n",
    "\n",
    "Notes: (1:change fp appropriately) (2:must be logged out of barnacle and open new terminal to copy files) (3:use scp -r to copy directory)"
   ]
  },
  {
   "cell_type": "markdown",
   "metadata": {},
   "source": [
    "Create deblur unweighted Emerperor PCoA plot:"
   ]
  },
  {
   "cell_type": "code",
   "execution_count": null,
   "metadata": {
    "collapsed": false
   },
   "outputs": [],
   "source": [
    "!make_emperor.py -i \"unweighted_unifrac_ag.deblur.neg.min10.withtax.bloom.filtered.even2000_pc.txt\" -m \"metadata.txt\" -o \"emperor_deblur-unweighted\""
   ]
  },
  {
   "cell_type": "markdown",
   "metadata": {},
   "source": [
    "#### Deblur (weighted)"
   ]
  },
  {
   "cell_type": "markdown",
   "metadata": {},
   "source": [
    "Secure copy the deblur files from barnacle using command line in terminal to establish a secure connection: scp jgeier@barnacle.ucsd.edu:/home/jona1883/scratch/AG_paper_deblurred_july_22_2016/bdiv/neg_even2k_w_unifrac/weighted_unifrac_ag.deblur.neg.min10.withtax.bloom.filtered.even2000_pc.txt /Users/justingeier/Documents/Justine_AG/\n",
    "\n",
    "Notes: (1:must be logged out of barnacle and open new terminal to copy files) (2:use scp -r to copy directory)"
   ]
  },
  {
   "cell_type": "markdown",
   "metadata": {},
   "source": [
    "Create deblur weighted Emerperor PCoA plot:"
   ]
  },
  {
   "cell_type": "code",
   "execution_count": null,
   "metadata": {
    "collapsed": false
   },
   "outputs": [],
   "source": [
    "!make_emperor.py -i \"weighted_unifrac_ag.deblur.neg.min10.withtax.bloom.filtered.even2000_pc.txt\" -m \"metadata.txt\" -o \"emperor_deblur-weighted\""
   ]
  },
  {
   "cell_type": "markdown",
   "metadata": {},
   "source": [
    "### Procrustes Analysis"
   ]
  },
  {
   "cell_type": "markdown",
   "metadata": {},
   "source": [
    "Now that we have made PCoA plots for both OTU and deblur data, we will now perform a procrustes analysis to compare the two sets of data. Specifically, procrustes analysis will allow us to see the difference in the beta diversity outputs from both OTU and deblur methods. This comparison is visualized by mapping the PCoA plot from the OTU data onto the PCoA plot from the deblur data and drawing lines between corresponding points. The length of the lines linking the two points corresponds to the closeness of the fit (short line = good fit; long line = poor fit). "
   ]
  },
  {
   "cell_type": "markdown",
   "metadata": {},
   "source": [
    "#### Procrustes Unweighted"
   ]
  },
  {
   "cell_type": "code",
   "execution_count": null,
   "metadata": {
    "collapsed": true
   },
   "outputs": [],
   "source": [
    "!transform_coordinate_matrices.py -i \"unweighted_unifrac_ag-pc.txt\",\"unweighted_unifrac_ag.deblur.neg.min10.withtax.bloom.filtered.even2000_pc.txt\" -r 999 -o \"procrustes_results-unweighted\""
   ]
  },
  {
   "cell_type": "code",
   "execution_count": null,
   "metadata": {
    "collapsed": false
   },
   "outputs": [],
   "source": [
    "!make_emperor.py -c -i \"procrustes_results-unweighted\" -o \"procrustes_results-unweighted/plots/\" -m \"metadata.txt\""
   ]
  },
  {
   "cell_type": "markdown",
   "metadata": {},
   "source": [
    "#### Procrustes Weighted"
   ]
  },
  {
   "cell_type": "code",
   "execution_count": 3,
   "metadata": {
    "collapsed": false
   },
   "outputs": [
    {
     "name": "stdout",
     "output_type": "stream",
     "text": [
      "Traceback (most recent call last):\r\n",
      "  File \"/Users/justingeier/miniconda2/envs/qiime-conda/bin/transform_coordinate_matrices.py\", line 4, in <module>\r\n",
      "    __import__('pkg_resources').run_script('qiime==1.9.1', 'transform_coordinate_matrices.py')\r\n",
      "  File \"/Users/justingeier/miniconda2/envs/qiime-conda/lib/python2.7/site-packages/setuptools-23.0.0-py2.7.egg/pkg_resources/__init__.py\", line 719, in run_script\r\n",
      "    \r\n",
      "  File \"/Users/justingeier/miniconda2/envs/qiime-conda/lib/python2.7/site-packages/setuptools-23.0.0-py2.7.egg/pkg_resources/__init__.py\", line 1504, in run_script\r\n",
      "    \r\n",
      "  File \"/Users/justingeier/miniconda2/envs/qiime-conda/lib/python2.7/site-packages/qiime-1.9.1-py2.7.egg-info/scripts/transform_coordinate_matrices.py\", line 187, in <module>\r\n",
      "    main()\r\n",
      "  File \"/Users/justingeier/miniconda2/envs/qiime-conda/lib/python2.7/site-packages/qiime-1.9.1-py2.7.egg-info/scripts/transform_coordinate_matrices.py\", line 149, in main\r\n",
      "    max_dimensions=num_dimensions)\r\n",
      "  File \"/Users/justingeier/miniconda2/envs/qiime-conda/lib/python2.7/site-packages/qiime/transform_coordinate_matrices.py\", line 134, in get_procrustes_results\r\n",
      "    ord_res_1 = OrdinationResults.read(coords_f1)\r\n",
      "  File \"/Users/justingeier/miniconda2/envs/qiime-conda/lib/python2.7/site-packages/skbio/io/_registry.py\", line 700, in read\r\n",
      "    return skbio_io_read(fp, into=cls, format=format, **kwargs)\r\n",
      "  File \"/Users/justingeier/miniconda2/envs/qiime-conda/lib/python2.7/site-packages/skbio/io/_registry.py\", line 620, in read\r\n",
      "    return reader(fp, mode=mode, **kwargs)\r\n",
      "  File \"/Users/justingeier/miniconda2/envs/qiime-conda/lib/python2.7/site-packages/skbio/io/_registry.py\", line 249, in wrapped_reader\r\n",
      "    return reader(fhs[0], **kwargs)\r\n",
      "  File \"/Users/justingeier/miniconda2/envs/qiime-conda/lib/python2.7/site-packages/skbio/io/ordination.py\", line 237, in _ordination_to_ordination_results\r\n",
      "    site, site_ids = _parse_array_section(fh, 'Site')\r\n",
      "  File \"/Users/justingeier/miniconda2/envs/qiime-conda/lib/python2.7/site-packages/skbio/io/ordination.py\", line 360, in _parse_array_section\r\n",
      "    (cols, len(vals), i + 1))\r\n",
      "skbio.io._exception.OrdinationFormatError: Expected 6487 values, but found 5976 in row 1161.\r\n"
     ]
    }
   ],
   "source": [
    "!transform_coordinate_matrices.py -i 'weighted_unifrac_ag-pc.txt','weighted_unifrac_ag.deblur.neg.min10.withtax.bloom.filtered.even2000_pc.txt' -r 1000 -o \"procrustes_results-weighted\""
   ]
  },
  {
   "cell_type": "code",
   "execution_count": 30,
   "metadata": {
    "collapsed": false
   },
   "outputs": [
    {
     "name": "stdout",
     "output_type": "stream",
     "text": [
      "Error in make_emperor.py: Could not use any of the files in the input directory.\r\n"
     ]
    }
   ],
   "source": [
    "!make_emperor.py -c -i \"procrustes_results-weighted\" -o \"procrustes_results-weighted/plots/\" -m \"metadata.txt\""
   ]
  },
  {
   "cell_type": "markdown",
   "metadata": {},
   "source": [
    "## Mantel Tests"
   ]
  },
  {
   "cell_type": "markdown",
   "metadata": {},
   "source": [
    "Now we will perform Mantel tests which will compare the two distance matrices (create from OTU and Deblur data) and show statistical significance from a permutation test. "
   ]
  },
  {
   "cell_type": "markdown",
   "metadata": {},
   "source": [
    "### Mantel Test (weighted)"
   ]
  },
  {
   "cell_type": "code",
   "execution_count": 5,
   "metadata": {
    "collapsed": false
   },
   "outputs": [
    {
     "name": "stdout",
     "output_type": "stream",
     "text": [
      "  % Total    % Received % Xferd  Average Speed   Time    Time     Time  Current\n",
      "                                 Dload  Upload   Total   Spent    Left  Speed\n",
      "100  477M  100  477M    0     0  9508k      0  0:00:51  0:00:51 --:--:-- 10.3M\n"
     ]
    }
   ],
   "source": [
    "! curl -OL ftp://ftp.microbio.me/AmericanGut/ag-June-23-2016/06-beta/notrim/10k/ag/weighted_unifrac_ag.txt"
   ]
  },
  {
   "cell_type": "code",
   "execution_count": 8,
   "metadata": {
    "collapsed": false
   },
   "outputs": [],
   "source": [
    "otu_weighted_mantel = skbio.DistanceMatrix.read('weighted_unifrac_ag.txt')"
   ]
  },
  {
   "cell_type": "code",
   "execution_count": 9,
   "metadata": {
    "collapsed": false
   },
   "outputs": [],
   "source": [
    "deblur_weighted_mantel = skbio.DistanceMatrix.read('weighted_unifrac_ag.deblur.neg.min10.withtax.bloom.filtered.even2000.txt')"
   ]
  },
  {
   "cell_type": "code",
   "execution_count": 10,
   "metadata": {
    "collapsed": false
   },
   "outputs": [],
   "source": [
    "weighted_otu_ids = set(otu_weighted_mantel.ids)"
   ]
  },
  {
   "cell_type": "code",
   "execution_count": 11,
   "metadata": {
    "collapsed": true
   },
   "outputs": [],
   "source": [
    "weighted_deblur_ids = set(deblur_weighted_mantel.ids)"
   ]
  },
  {
   "cell_type": "code",
   "execution_count": 12,
   "metadata": {
    "collapsed": true
   },
   "outputs": [],
   "source": [
    "weighted_shared_ids = set.intersection(weighted_otu_ids, weighted_deblur_ids)"
   ]
  },
  {
   "cell_type": "code",
   "execution_count": 13,
   "metadata": {
    "collapsed": true
   },
   "outputs": [],
   "source": [
    "filtered_otu_weighted_mantel = otu_weighted_mantel.filter(weighted_shared_ids)"
   ]
  },
  {
   "cell_type": "code",
   "execution_count": 14,
   "metadata": {
    "collapsed": true
   },
   "outputs": [],
   "source": [
    "filtered_deblur_weighted_mantel = deblur_weighted_mantel.filter(weighted_shared_ids)"
   ]
  },
  {
   "cell_type": "code",
   "execution_count": 15,
   "metadata": {
    "collapsed": false
   },
   "outputs": [
    {
     "data": {
      "text/plain": [
       "(0.8432902389437168, 0.001, 6017)"
      ]
     },
     "execution_count": 15,
     "metadata": {},
     "output_type": "execute_result"
    }
   ],
   "source": [
    "skbio.stats.distance.mantel(filtered_otu_weighted_mantel, filtered_deblur_weighted_mantel)"
   ]
  },
  {
   "cell_type": "markdown",
   "metadata": {},
   "source": [
    "### Mantel Test (unweighted)"
   ]
  },
  {
   "cell_type": "code",
   "execution_count": 16,
   "metadata": {
    "collapsed": false
   },
   "outputs": [
    {
     "name": "stdout",
     "output_type": "stream",
     "text": [
      "  % Total    % Received % Xferd  Average Speed   Time    Time     Time  Current\n",
      "                                 Dload  Upload   Total   Spent    Left  Speed\n",
      "100  597M  100  597M    0     0  6146k      0  0:01:39  0:01:39 --:--:-- 9098k\n"
     ]
    }
   ],
   "source": [
    "! curl -OL ftp://ftp.microbio.me/AmericanGut/ag-June-23-2016/06-beta/notrim/10k/ag/unweighted_unifrac_ag.txt"
   ]
  },
  {
   "cell_type": "code",
   "execution_count": 17,
   "metadata": {
    "collapsed": false
   },
   "outputs": [],
   "source": [
    "otu_unweighted_mantel = skbio.DistanceMatrix.read('unweighted_unifrac_ag.txt')"
   ]
  },
  {
   "cell_type": "code",
   "execution_count": 18,
   "metadata": {
    "collapsed": true
   },
   "outputs": [],
   "source": [
    "deblur_unweighted_mantel = skbio.DistanceMatrix.read('unweighted_unifrac_ag.deblur.neg.min10.withtax.bloom.filtered.even2000.txt')"
   ]
  },
  {
   "cell_type": "code",
   "execution_count": 19,
   "metadata": {
    "collapsed": false
   },
   "outputs": [],
   "source": [
    "otu_ids = set(otu_unweighted_mantel.ids)"
   ]
  },
  {
   "cell_type": "code",
   "execution_count": 20,
   "metadata": {
    "collapsed": false
   },
   "outputs": [],
   "source": [
    "deblur_ids = set (deblur_unweighted_mantel.ids)"
   ]
  },
  {
   "cell_type": "code",
   "execution_count": 21,
   "metadata": {
    "collapsed": false
   },
   "outputs": [],
   "source": [
    "shared_ids = set.intersection(otu_ids, deblur_ids)"
   ]
  },
  {
   "cell_type": "code",
   "execution_count": 23,
   "metadata": {
    "collapsed": false
   },
   "outputs": [],
   "source": [
    "filtered_otu_unweighted_mantel = otu_unweighted_mantel.filter(shared_ids)"
   ]
  },
  {
   "cell_type": "code",
   "execution_count": 24,
   "metadata": {
    "collapsed": false
   },
   "outputs": [],
   "source": [
    "filtered_deblur_unweighted_mantel = deblur_unweighted_mantel.filter(shared_ids)"
   ]
  },
  {
   "cell_type": "code",
   "execution_count": 25,
   "metadata": {
    "collapsed": false
   },
   "outputs": [
    {
     "data": {
      "text/plain": [
       "(1.0, 0.001, 6017)"
      ]
     },
     "execution_count": 25,
     "metadata": {},
     "output_type": "execute_result"
    }
   ],
   "source": [
    "skbio.stats.distance.mantel(filtered_otu_unweighted_mantel, filtered_otu_unweighted_mantel)"
   ]
  }
 ],
 "metadata": {
  "kernelspec": {
   "display_name": "Python 2",
   "language": "python",
   "name": "python2"
  },
  "language_info": {
   "codemirror_mode": {
    "name": "ipython",
    "version": 2
   },
   "file_extension": ".py",
   "mimetype": "text/x-python",
   "name": "python",
   "nbconvert_exporter": "python",
   "pygments_lexer": "ipython2",
   "version": "2.7.12"
  }
 },
 "nbformat": 4,
 "nbformat_minor": 0
}
