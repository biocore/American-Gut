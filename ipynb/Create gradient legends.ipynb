{
 "metadata": {
  "name": "",
  "signature": "sha256:bc60da4f039d3f4e3b4df1185654501b72d219bfeed69f58d6f45a13cf033db0"
 },
 "nbformat": 3,
 "nbformat_minor": 0,
 "worksheets": [
  {
   "cells": [
    {
     "cell_type": "markdown",
     "metadata": {},
     "source": [
      "A Notebook for generating legends based off of a gradient color scheme."
     ]
    },
    {
     "cell_type": "code",
     "collapsed": false,
     "input": [
      "%matplotlib inline\n",
      "import numpy as np\n",
      "import matplotlib.pyplot as plt"
     ],
     "language": "python",
     "metadata": {},
     "outputs": [],
     "prompt_number": 18
    },
    {
     "cell_type": "code",
     "collapsed": false,
     "input": [
      "colormap_name = 'YlOrBr'  # see http://matplotlib.org/xkcd/examples/color/colormaps_reference.html for list of maps\n",
      "legend_label = 'Firmicutes Abundance'\n",
      "max_label = '99%'\n",
      "min_label = '0%'\n",
      "fontsize=25\n",
      "\n",
      "filename = legend_label.replace(' ', '_').replace('(', '').replace(')', '') + '.png'"
     ],
     "language": "python",
     "metadata": {},
     "outputs": [],
     "prompt_number": 60
    },
    {
     "cell_type": "code",
     "collapsed": false,
     "input": [
      "gradient = np.linspace(0, 1, 256)[::-1]\n",
      "gradient = np.vstack((gradient, gradient)).T\n",
      "\n",
      "# adapted from http://worksofscience.net/matplotlib/twinx\n",
      "fig = figure(figsize=(8,0.5)[::-1])\n",
      "ax = gca()\n",
      "axD = fig.add_subplot(ax)\n",
      "\n",
      "ax.imshow(gradient, aspect='auto', cmap=plt.get_cmap(colormap_name))\n",
      "\n",
      "axD.set_ylabel('')\n",
      "axD.set_xticks([], [])\n",
      "axD.set_yticks([], [])\n",
      "axD.set_ylabel(legend_label, fontsize=fontsize)\n",
      "axD.set_xlabel(min_label, fontsize=fontsize)\n",
      "\n",
      "axU = axD.twiny()\n",
      "axU.set_ylabel('')\n",
      "axU.set_xticks([], [])\n",
      "axU.set_yticks([], [])\n",
      "axU.set_xlabel(max_label, fontsize=fontsize)\n",
      "\n",
      "savefig(filename, transparent=True, bbox_inches='tight')"
     ],
     "language": "python",
     "metadata": {},
     "outputs": [
      {
       "metadata": {},
       "output_type": "display_data",
       "png": "[encoded data removed]",
       "text": [
        "<matplotlib.figure.Figure at 0x1085a16d0>"
       ]
      }
     ],
     "prompt_number": 74
    }
   ],
   "metadata": {}
  }
 ]
}