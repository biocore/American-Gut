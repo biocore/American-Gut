{
 "cells": [
  {
   "cell_type": "markdown",
   "metadata": {},
   "source": [
    "# American Gut OTU vs Deblur\n"
   ]
  },
  {
   "cell_type": "markdown",
   "metadata": {},
   "source": [
    "This notebook is a part of a group of several notebooks that will explore any differences that may exist between OTU and deblur forms of analysis of the American Gut cohort.\n"
   ]
  },
  {
   "cell_type": "code",
   "execution_count": 79,
   "metadata": {
    "collapsed": true
   },
   "outputs": [],
   "source": [
    "# Imports dependencies\n",
    "%matplotlib inline\n",
    "import matplotlib.pyplot as plt\n",
    "import qiime\n",
    "import pandas as pd \n",
    "import numpy as np\n",
    "import scipy\n",
    "import seaborn as sns"
   ]
  },
  {
   "cell_type": "markdown",
   "metadata": {},
   "source": [
    "## Taxa Summaries"
   ]
  },
  {
   "cell_type": "markdown",
   "metadata": {},
   "source": [
    "This notebook will examine an differences that may be evident between the taxa summaries generated from OTU and Deblur data. We will examine the two sets of data at the phylum and genus taxanomic levels (designated as \"Level 2\" and \"Level 6\" in the QIIME platform). Specifically, we will be comparing the OTU and Deblur data by looking at the relative abundances of taxa in each set of data.  "
   ]
  },
  {
   "cell_type": "markdown",
   "metadata": {},
   "source": [
    "Download the OTU taxa summaries by level from the ftp site:"
   ]
  },
  {
   "cell_type": "code",
   "execution_count": 282,
   "metadata": {
    "collapsed": false
   },
   "outputs": [
    {
     "name": "stdout",
     "output_type": "stream",
     "text": [
      "  % Total    % Received % Xferd  Average Speed   Time    Time     Time  Current\n",
      "                                 Dload  Upload   Total   Spent    Left  Speed\n",
      "100 3440k  100 3440k    0     0  6166k      0 --:--:-- --:--:-- --:--:-- 6165k\n",
      "  % Total    % Received % Xferd  Average Speed   Time    Time     Time  Current\n",
      "                                 Dload  Upload   Total   Spent    Left  Speed\n",
      "100 75.0M  100 75.0M    0     0  9053k      0  0:00:08  0:00:08 --:--:-- 10.3M\n"
     ]
    }
   ],
   "source": [
    "# Downloads files from ftp site \n",
    "! curl -OL ftp://ftp.microbio.me/AmericanGut/ag-June-23-2016/07-taxa/notrim/otu_table_L2.txt\n",
    "! curl -OL ftp://ftp.microbio.me/AmericanGut/ag-June-23-2016/07-taxa/notrim/otu_table_L6.txt"
   ]
  },
  {
   "cell_type": "markdown",
   "metadata": {},
   "source": [
    "Secure copy the deblur files from barnacle using command line in terminal to establish a secure connection: scp jgeier@barnacle.ucsd.edu:/home/jona1883/scratch/AG_paper_deblurred_july_22_2016/bdiv/ag.deblur.neg.min10.withtax.bloom.filtered.biom /Users/justingeier/Documents/Justine_AG (copy the file into the same directory that contains the notebook)\n",
    "Notes: (1:must be logged out of barnacle and open new terminal to copy files) (2:use scp -r to copy directory)"
   ]
  },
  {
   "cell_type": "markdown",
   "metadata": {},
   "source": [
    "To generate the deblur taxa summaries by level we must run QIIME script 'summarize_taxa.py':\n",
    "This will yeild a folder containing the deblur txt files generated from the .biom files that we will compare to the OTU txt files that we downloaded from the ftp site above."
   ]
  },
  {
   "cell_type": "code",
   "execution_count": 284,
   "metadata": {
    "collapsed": false
   },
   "outputs": [],
   "source": [
    "# Generates taxa summary files\n",
    "! summarize_taxa.py -i ag.deblur.neg.min10.withtax.bloom.filtered.biom -L 2,6 -o taxa_summaries"
   ]
  },
  {
   "cell_type": "markdown",
   "metadata": {},
   "source": [
    "### Phylum (L2)"
   ]
  },
  {
   "cell_type": "markdown",
   "metadata": {},
   "source": [
    "In order to compare the taxa in two sets of data, we will need to read the OTU .txt files into a pandas DataFrame, find the mean abundance for each taxa across all samples in the cohort, and then arrange those taxa by abundance. We will begin with OTU L2 data:"
   ]
  },
  {
   "cell_type": "markdown",
   "metadata": {},
   "source": [
    "#### OTU L2"
   ]
  },
  {
   "cell_type": "code",
   "execution_count": 3,
   "metadata": {
    "collapsed": false
   },
   "outputs": [],
   "source": [
    "# Creates DataFrame from OTU table \n",
    "OTU_L2 = pd.read_csv(\"otu_table_L2.txt\", sep='\\t', skiprows=1)"
   ]
  },
  {
   "cell_type": "code",
   "execution_count": 4,
   "metadata": {
    "collapsed": true
   },
   "outputs": [],
   "source": [
    "# Sets OTU ID as the index for the Dataframe\n",
    "indexed_OTU_L2 = OTU_L2.set_index(\"#OTU ID\")"
   ]
  },
  {
   "cell_type": "code",
   "execution_count": 5,
   "metadata": {
    "collapsed": false,
    "scrolled": false
   },
   "outputs": [],
   "source": [
    "# Averages sample values for each #OTU ID\n",
    "mean_OTU_L2 = indexed_OTU_L2.mean(axis=(1))"
   ]
  },
  {
   "cell_type": "code",
   "execution_count": 6,
   "metadata": {
    "collapsed": false
   },
   "outputs": [],
   "source": [
    "# Arranges the averages for taxa from highest relative abundance to the lowest\n",
    "ordered_OTU_L2 = mean_OTU_L2.sort_values(ascending = False)"
   ]
  },
  {
   "cell_type": "markdown",
   "metadata": {},
   "source": [
    "Because the top several bacteria account for most of the abundance, we will focus our analysis on these when comparing between the two sets of data. We have designated this cutoff at .01% relative abundance, which as we will see in this case, is the top 5 taxa: "
   ]
  },
  {
   "cell_type": "code",
   "execution_count": 206,
   "metadata": {
    "collapsed": false
   },
   "outputs": [
    {
     "data": {
      "text/plain": [
       "#OTU ID\n",
       "k__Bacteria;p__Firmicutes         0.454870\n",
       "k__Bacteria;p__Bacteroidetes      0.345814\n",
       "k__Bacteria;p__Proteobacteria     0.122106\n",
       "k__Bacteria;p__Actinobacteria     0.043194\n",
       "k__Bacteria;p__Verrucomicrobia    0.017047\n",
       "dtype: float64"
      ]
     },
     "execution_count": 206,
     "metadata": {},
     "output_type": "execute_result"
    }
   ],
   "source": [
    "# Takes the top 5 taxa by abundance\n",
    "top5_OTU_L2 = ordered_OTU_L2.head(n=5)\n",
    "top5_OTU_L2"
   ]
  },
  {
   "cell_type": "markdown",
   "metadata": {},
   "source": [
    "#### Deblur L2"
   ]
  },
  {
   "cell_type": "markdown",
   "metadata": {},
   "source": [
    "We will repeat the same DataFrame manipulation for the deblur data as we did with the OTU data. "
   ]
  },
  {
   "cell_type": "code",
   "execution_count": 8,
   "metadata": {
    "collapsed": true
   },
   "outputs": [],
   "source": [
    "# Creates DataFrame from deblur data\n",
    "deblur_L2 = pd.read_csv('taxa_summaries/ag.deblur.neg.min10.withtax.bloom.filtered_L2.txt', sep='\\t', skiprows=1)"
   ]
  },
  {
   "cell_type": "code",
   "execution_count": 9,
   "metadata": {
    "collapsed": true
   },
   "outputs": [],
   "source": [
    "# Sets OTU ID as the index for the Dataframe\n",
    "indexed_deblur_L2 = deblur_L2.set_index(\"#OTU ID\")"
   ]
  },
  {
   "cell_type": "code",
   "execution_count": 10,
   "metadata": {
    "collapsed": true
   },
   "outputs": [],
   "source": [
    "# Averages sample values for each #OTU ID\n",
    "mean_deblur_L2 = indexed_deblur_L2.mean(axis=(1))"
   ]
  },
  {
   "cell_type": "code",
   "execution_count": 11,
   "metadata": {
    "collapsed": false
   },
   "outputs": [],
   "source": [
    "# Arranges the averages for taxa from highest relative abundance to the lowest\n",
    "ordered_deblur_L2 = mean_deblur_L2.sort_values(ascending = False)"
   ]
  },
  {
   "cell_type": "code",
   "execution_count": 209,
   "metadata": {
    "collapsed": false
   },
   "outputs": [
    {
     "data": {
      "text/plain": [
       "#OTU ID\n",
       "k__Bacteria;p__Firmicutes         0.471816\n",
       "k__Bacteria;p__Bacteroidetes      0.355134\n",
       "k__Bacteria;p__Proteobacteria     0.091301\n",
       "k__Bacteria;p__Actinobacteria     0.042870\n",
       "k__Bacteria;p__Verrucomicrobia    0.020618\n",
       "dtype: float64"
      ]
     },
     "execution_count": 209,
     "metadata": {},
     "output_type": "execute_result"
    }
   ],
   "source": [
    "# Takes the top 5 taxa by abundance\n",
    "top5_deblur_L2 = ordered_deblur_L2.head(n=5)\n",
    "top5_deblur_L2"
   ]
  },
  {
   "cell_type": "markdown",
   "metadata": {},
   "source": [
    "### Difference OTU - Deblur L2"
   ]
  },
  {
   "cell_type": "markdown",
   "metadata": {},
   "source": [
    "We will now take the difference between the top 5 taxa by abundance for further analysis."
   ]
  },
  {
   "cell_type": "code",
   "execution_count": 13,
   "metadata": {
    "collapsed": false
   },
   "outputs": [],
   "source": [
    "# Subtracts the values of one DataFrame from the values in the other(top 5 taxa)\n",
    "L2_diff = top5_OTU_L2 - top5_deblur_L2"
   ]
  },
  {
   "cell_type": "code",
   "execution_count": 146,
   "metadata": {
    "collapsed": false,
    "scrolled": true
   },
   "outputs": [
    {
     "name": "stdout",
     "output_type": "stream",
     "text": [
      "#OTU ID\n",
      "k__Bacteria;p__Firmicutes        -1.694632\n",
      "k__Bacteria;p__Bacteroidetes     -0.931996\n",
      "k__Bacteria;p__Proteobacteria     3.080495\n",
      "k__Bacteria;p__Actinobacteria     0.032329\n",
      "k__Bacteria;p__Verrucomicrobia   -0.357104\n",
      "dtype: float64\n"
     ]
    }
   ],
   "source": [
    "# Shows differences as a percentage\n",
    "print L2_diff * 100"
   ]
  },
  {
   "cell_type": "code",
   "execution_count": 60,
   "metadata": {
    "collapsed": true
   },
   "outputs": [],
   "source": [
    "# Subtracts the values of one DataFrame from the values in the other (all taxa)\n",
    "l2_all_diff = indexed_deblur_L2 - indexed_OTU_L2\n",
    "# Replaces NaN with 0 in the same matrix\n",
    "l2_all_diff.replace(np.nan, 0, inplace=True)\n",
    "l2_top_diff = l2_all_diff.loc[L2_diff.index]"
   ]
  },
  {
   "cell_type": "code",
   "execution_count": 69,
   "metadata": {
    "collapsed": false
   },
   "outputs": [],
   "source": [
    "# Converts from horizontal to long form\n",
    "l2_top_long = pd.DataFrame(l2_top_diff.unstack(), columns=['Difference'])\n",
    "# Seperates out the bacteria as the index\n",
    "l2_top_long.reset_index(inplace=True)\n",
    "# Cleans up the phylum name\n",
    "l2_top_long['#OTU ID'] = l2_top_long['#OTU ID'].apply(lambda x: x.replace('k__Bacteria;p__', ''))"
   ]
  },
  {
   "cell_type": "code",
   "execution_count": 204,
   "metadata": {
    "collapsed": false
   },
   "outputs": [
    {
     "data": {
      "text/plain": [
       "(-0.05, 0.05)"
      ]
     },
     "execution_count": 204,
     "metadata": {},
     "output_type": "execute_result"
    },
    {
     "data": {
      "image/png": "[encoded data removed]",
      "text/plain": [
       "<matplotlib.figure.Figure at 0x11bbb1250>"
      ]
     },
     "metadata": {},
     "output_type": "display_data"
    }
   ],
   "source": [
    "# Creates violin plot to visualize differences between taxa\n",
    "dim2 = (20, 6)\n",
    "fig, ax = plt.subplots(figsize=dim2)\n",
    "sns.violinplot(x='#OTU ID', y='Difference', data=l2_top_long, ax=ax)\n",
    "ax.set_ylim([-0.05, 0.05])"
   ]
  },
  {
   "cell_type": "code",
   "execution_count": 80,
   "metadata": {
    "collapsed": true
   },
   "outputs": [],
   "source": [
    "# Creates function for ttest using scipy \n",
    "def test_diff(x):\n",
    "    return scipy.stats.ttest_1samp(x, 0)[1]"
   ]
  },
  {
   "cell_type": "code",
   "execution_count": 82,
   "metadata": {
    "collapsed": false
   },
   "outputs": [
    {
     "data": {
      "text/plain": [
       "#OTU ID\n",
       "k__Bacteria;p__Firmicutes          2.273355e-56\n",
       "k__Bacteria;p__Bacteroidetes       7.879961e-20\n",
       "k__Bacteria;p__Proteobacteria      2.720663e-02\n",
       "k__Bacteria;p__Actinobacteria      8.995866e-28\n",
       "k__Bacteria;p__Verrucomicrobia    2.960531e-172\n",
       "dtype: float64"
      ]
     },
     "execution_count": 82,
     "metadata": {},
     "output_type": "execute_result"
    }
   ],
   "source": [
    "# Performs ttest on differences \n",
    "# Reject null hypothesis if value ≈ 0\n",
    "l2_top_diff.apply(test_diff, axis=1)"
   ]
  },
  {
   "cell_type": "markdown",
   "metadata": {},
   "source": [
    "### Genus (L6)"
   ]
  },
  {
   "cell_type": "markdown",
   "metadata": {},
   "source": [
    "In order to compare the taxa in two sets of data, we will need to read the OTU .txt files into a pandas DataFrame, find the mean abundance for each taxa across all samples in the cohort, and then arrange those taxa by abundance. Now we will do as we did with L2 data with L6 data:"
   ]
  },
  {
   "cell_type": "markdown",
   "metadata": {},
   "source": [
    "#### OTU L6"
   ]
  },
  {
   "cell_type": "code",
   "execution_count": 136,
   "metadata": {
    "collapsed": false
   },
   "outputs": [],
   "source": [
    "# Creates DataFrame from OTU table \n",
    "OTU_L6 = pd.read_csv(\"otu_table_L6.txt\", sep='\\t', skiprows=1) "
   ]
  },
  {
   "cell_type": "code",
   "execution_count": 137,
   "metadata": {
    "collapsed": false
   },
   "outputs": [],
   "source": [
    "# Cleans up names for genus (only shows order, family, genius)\n",
    "OTU_L6['#OTU ID'] = OTU_L6['#OTU ID'].apply(lambda x: x.split(';o')[1])\n",
    "# Sets OTU ID as the index for the Dataframe\n",
    "indexed_OTU_L6 = OTU_L6.set_index(\"#OTU ID\") "
   ]
  },
  {
   "cell_type": "code",
   "execution_count": 138,
   "metadata": {
    "collapsed": true
   },
   "outputs": [],
   "source": [
    "# Averages sample values for each #OTU ID\n",
    "mean_OTU_L6 = indexed_OTU_L6.mean(axis=(1))"
   ]
  },
  {
   "cell_type": "code",
   "execution_count": 139,
   "metadata": {
    "collapsed": false
   },
   "outputs": [],
   "source": [
    "# Arranges the averages for taxa from highest relative abundance to the lowest\n",
    "ordered_OTU_L6 = mean_OTU_L6.sort_values(ascending = False)"
   ]
  },
  {
   "cell_type": "code",
   "execution_count": 140,
   "metadata": {
    "collapsed": false
   },
   "outputs": [
    {
     "name": "stdout",
     "output_type": "stream",
     "text": [
      "#OTU ID\n",
      "__Bacteroidales;f__Bacteroidaceae;g__Bacteroides              0.235135\n",
      "__Clostridiales;f__Ruminococcaceae;g__                        0.077562\n",
      "__Clostridiales;f__Lachnospiraceae;g__                        0.060785\n",
      "__Clostridiales;f__Ruminococcaceae;g__Faecalibacterium        0.059444\n",
      "__Clostridiales;f__;g__                                       0.042829\n",
      "__Bacteroidales;f__Prevotellaceae;g__Prevotella               0.034943\n",
      "__Bacteroidales;f__Rikenellaceae;g__                          0.024073\n",
      "__Bacteroidales;f__Porphyromonadaceae;g__Parabacteroides      0.023319\n",
      "__Enterobacteriales;f__Enterobacteriaceae;g__                 0.021970\n",
      "__Clostridiales;f__Ruminococcaceae;g__Ruminococcus            0.021703\n",
      "__Clostridiales;f__Lachnospiraceae;g__Blautia                 0.020744\n",
      "__Lactobacillales;f__Streptococcaceae;g__Streptococcus        0.019598\n",
      "__Clostridiales;f__Lachnospiraceae;g__Coprococcus             0.018894\n",
      "__Verrucomicrobiales;f__Verrucomicrobiaceae;g__Akkermansia    0.016879\n",
      "__Pseudomonadales;f__Pseudomonadaceae;g__Pseudomonas          0.015451\n",
      "dtype: float64\n"
     ]
    }
   ],
   "source": [
    "# Takes the top 15 taxa by abundance\n",
    "top15_OTU_L6 = ordered_OTU_L6.head(n=15)\n",
    "#Sorts values by abundance in descending order\n",
    "top15_OTU_L6.sort_values(ascending=False)"
   ]
  },
  {
   "cell_type": "markdown",
   "metadata": {},
   "source": [
    "#### Deblur L6"
   ]
  },
  {
   "cell_type": "markdown",
   "metadata": {},
   "source": [
    "We will repeat the same DataFrame manipulation for the deblur data as we did with the OTU data. "
   ]
  },
  {
   "cell_type": "code",
   "execution_count": 210,
   "metadata": {
    "collapsed": false
   },
   "outputs": [],
   "source": [
    "# Creates DataFrame from deblur table\n",
    "deblur_L6 = pd.read_csv('taxa_summaries/ag.deblur.neg.min10.withtax.bloom.filtered_L6.txt', sep='\\t', skiprows=1)"
   ]
  },
  {
   "cell_type": "code",
   "execution_count": 211,
   "metadata": {
    "collapsed": false
   },
   "outputs": [],
   "source": [
    "# Cleans up names for genus (only shows order, family, genius)\n",
    "deblur_L6['#OTU ID'] = deblur_L6['#OTU ID'].apply(clean_otus)\n",
    "# Sets OTU ID as the index for the Dataframe\n",
    "indexed_deblur_L6 = deblur_L6.set_index('#OTU ID')"
   ]
  },
  {
   "cell_type": "code",
   "execution_count": 212,
   "metadata": {
    "collapsed": true
   },
   "outputs": [],
   "source": [
    "# Averages sample values for each #OTU ID\n",
    "mean_deblur_L6 = indexed_deblur_L6.mean(axis=(1))"
   ]
  },
  {
   "cell_type": "code",
   "execution_count": 213,
   "metadata": {
    "collapsed": false
   },
   "outputs": [],
   "source": [
    "# Arranges the averages for taxa from highest relative abundance to the lowest\n",
    "ordered_deblur_L6 = mean_deblur_L6.sort_values(ascending = False)"
   ]
  },
  {
   "cell_type": "code",
   "execution_count": 217,
   "metadata": {
    "collapsed": false
   },
   "outputs": [
    {
     "data": {
      "text/plain": [
       "#OTU ID\n",
       "__Bacteroidales;f__Bacteroidaceae;g__Bacteroides              0.229402\n",
       "__Clostridiales;f__Ruminococcaceae;g__Faecalibacterium        0.093850\n",
       "__Bacteroidales;f__Prevotellaceae;g__Prevotella               0.041412\n",
       "__Clostridiales;f__Lachnospiraceae;g__Roseburia               0.035043\n",
       "__Clostridiales;f__Ruminococcaceae;g__Oscillospira            0.031414\n",
       "__Clostridiales;f__Ruminococcaceae;g__Ruminococcus            0.030938\n",
       "__Bacteroidales;f__Rikenellaceae;g__                          0.028056\n",
       "__Clostridiales;f__;g__                                       0.028003\n",
       "__Bacteroidales;f__Porphyromonadaceae;g__Parabacteroides      0.024640\n",
       "__Clostridiales;f__Lachnospiraceae;g__                        0.023719\n",
       "__Clostridiales;f__Lachnospiraceae;g__Blautia                 0.021443\n",
       "__Clostridiales;f__Lachnospiraceae;g__Coprococcus             0.020846\n",
       "__Verrucomicrobiales;f__Verrucomicrobiaceae;g__Akkermansia    0.020458\n",
       "__Lactobacillales;f__Streptococcaceae;g__Streptococcus        0.017610\n",
       "__Clostridiales;f__Ruminococcaceae;g__                        0.017379\n",
       "dtype: float64"
      ]
     },
     "execution_count": 217,
     "metadata": {},
     "output_type": "execute_result"
    }
   ],
   "source": [
    "# Takes the top 15 taxa by abundance\n",
    "top15_deblur_L6 = ordered_deblur_L6.head(n=15)\n",
    "#Sorts values by abundance in descending order\n",
    "top15_deblur_L6.sort_values(ascending=False)"
   ]
  },
  {
   "cell_type": "markdown",
   "metadata": {},
   "source": [
    "### Difference OTU - Deblur L6"
   ]
  },
  {
   "cell_type": "code",
   "execution_count": 218,
   "metadata": {
    "collapsed": false
   },
   "outputs": [
    {
     "name": "stdout",
     "output_type": "stream",
     "text": [
      "#OTU ID\n",
      "__Bacteroidales;f__Bacteroidaceae;g__Bacteroides              0.573274\n",
      "__Bacteroidales;f__Porphyromonadaceae;g__Parabacteroides     -0.132021\n",
      "__Bacteroidales;f__Prevotellaceae;g__Prevotella              -0.646952\n",
      "__Bacteroidales;f__Rikenellaceae;g__                         -0.398230\n",
      "__Clostridiales;f__;g__                                       1.482601\n",
      "__Clostridiales;f__Lachnospiraceae;g__                        3.706570\n",
      "__Clostridiales;f__Lachnospiraceae;g__Blautia                -0.069866\n",
      "__Clostridiales;f__Lachnospiraceae;g__Coprococcus            -0.195166\n",
      "__Clostridiales;f__Lachnospiraceae;g__Roseburia                    NaN\n",
      "__Clostridiales;f__Ruminococcaceae;g__                        6.018344\n",
      "__Clostridiales;f__Ruminococcaceae;g__Faecalibacterium       -3.440621\n",
      "__Clostridiales;f__Ruminococcaceae;g__Oscillospira                 NaN\n",
      "__Clostridiales;f__Ruminococcaceae;g__Ruminococcus           -0.923498\n",
      "__Enterobacteriales;f__Enterobacteriaceae;g__                      NaN\n",
      "__Lactobacillales;f__Streptococcaceae;g__Streptococcus        0.198835\n",
      "__Pseudomonadales;f__Pseudomonadaceae;g__Pseudomonas               NaN\n",
      "__Verrucomicrobiales;f__Verrucomicrobiaceae;g__Akkermansia   -0.357961\n",
      "dtype: float64\n"
     ]
    }
   ],
   "source": [
    "# Subtracts the values of one DataFrame from the values in the other(top 15 taxa)\n",
    "L6_diff = top15_OTU_L6 - top15_deblur_L6\n",
    "# Shows differences as a percentage\n",
    "print L6_diff * 100"
   ]
  },
  {
   "cell_type": "code",
   "execution_count": 178,
   "metadata": {
    "collapsed": true
   },
   "outputs": [],
   "source": [
    "# Subtracts the values of one DataFrame from the values in the other (all taxa)\n",
    "l6_all_diff = indexed_deblur_L6 - indexed_OTU_L6\n",
    "# Replaces NaN with 0 in the same matrix\n",
    "l6_all_diff.replace(np.nan, 0, inplace=True)\n",
    "l6_top_diff = l6_all_diff.loc[L6_diff.index]"
   ]
  },
  {
   "cell_type": "code",
   "execution_count": 179,
   "metadata": {
    "collapsed": false
   },
   "outputs": [],
   "source": [
    "# Converts from horizontal to long form\n",
    "l6_top_long = pd.DataFrame(l6_top_diff.unstack(), columns=['Difference'])\n",
    "# Seperates out the bacteria as the index\n",
    "l6_top_long.reset_index(inplace=True)\n",
    "# Cleans up the phylum name\n",
    "l6_top_long['#OTU ID'] = l6_top_long['#OTU ID'].apply(lambda x: x.replace('k__Bacteria;p__', ''))"
   ]
  },
  {
   "cell_type": "code",
   "execution_count": 203,
   "metadata": {
    "collapsed": false
   },
   "outputs": [
    {
     "data": {
      "text/plain": [
       "(-0.05, 0.05)"
      ]
     },
     "execution_count": 203,
     "metadata": {},
     "output_type": "execute_result"
    },
    {
     "data": {
      "image/png": "[encoded data removed]",
      "text/plain": [
       "<matplotlib.figure.Figure at 0x114b1ec90>"
      ]
     },
     "metadata": {},
     "output_type": "display_data"
    }
   ],
   "source": [
    "# Creates violin plot to visualize differences between taxa\n",
    "dim6 = (20, 6)\n",
    "fig, ax = plt.subplots(figsize=dim6)\n",
    "sns.violinplot(x='#OTU ID', y='Difference', data=l6_top_long, ax=ax)\n",
    "ax.set_ylim([-0.05, 0.05])"
   ]
  },
  {
   "cell_type": "code",
   "execution_count": 191,
   "metadata": {
    "collapsed": true
   },
   "outputs": [],
   "source": [
    "# Creates function for ttest using scipy \n",
    "def test_diff(x):\n",
    "    return scipy.stats.ttest_1samp(x, 0)[1]"
   ]
  },
  {
   "cell_type": "code",
   "execution_count": 192,
   "metadata": {
    "collapsed": false
   },
   "outputs": [
    {
     "data": {
      "text/plain": [
       "#OTU ID\n",
       "__Bacteroidales;f__Bacteroidaceae;g__Bacteroides               0.000000e+00\n",
       "__Bacteroidales;f__Porphyromonadaceae;g__Parabacteroides       3.268272e-77\n",
       "__Bacteroidales;f__Prevotellaceae;g__Prevotella                6.513950e-56\n",
       "__Bacteroidales;f__Rikenellaceae;g__                           0.000000e+00\n",
       "__Clostridiales;f__;g__                                        0.000000e+00\n",
       "__Clostridiales;f__Lachnospiraceae;g__                         0.000000e+00\n",
       "__Clostridiales;f__Lachnospiraceae;g__Blautia                  3.853945e-21\n",
       "__Clostridiales;f__Lachnospiraceae;g__Coprococcus              1.549623e-31\n",
       "__Clostridiales;f__Lachnospiraceae;g__Roseburia                0.000000e+00\n",
       "__Clostridiales;f__Ruminococcaceae;g__                         0.000000e+00\n",
       "__Clostridiales;f__Ruminococcaceae;g__Faecalibacterium         0.000000e+00\n",
       "__Clostridiales;f__Ruminococcaceae;g__Oscillospira             0.000000e+00\n",
       "__Clostridiales;f__Ruminococcaceae;g__Ruminococcus            1.276206e-190\n",
       "__Enterobacteriales;f__Enterobacteriaceae;g__                  1.528871e-35\n",
       "__Lactobacillales;f__Streptococcaceae;g__Streptococcus         7.510198e-38\n",
       "__Pseudomonadales;f__Pseudomonadaceae;g__Pseudomonas           2.772175e-02\n",
       "__Verrucomicrobiales;f__Verrucomicrobiaceae;g__Akkermansia    5.143999e-166\n",
       "dtype: float64"
      ]
     },
     "execution_count": 192,
     "metadata": {},
     "output_type": "execute_result"
    }
   ],
   "source": [
    "# Performs ttest on differences \n",
    "# Reject null hypothesis if value ≈ 0\n",
    "l6_top_diff.apply(test_diff, axis=1)"
   ]
  }
 ],
 "metadata": {
  "kernelspec": {
   "display_name": "Python 2",
   "language": "python",
   "name": "python2"
  },
  "language_info": {
   "codemirror_mode": {
    "name": "ipython",
    "version": 2
   },
   "file_extension": ".py",
   "mimetype": "text/x-python",
   "name": "python",
   "nbconvert_exporter": "python",
   "pygments_lexer": "ipython2",
   "version": "2.7.12"
  }
 },
 "nbformat": 4,
 "nbformat_minor": 0
}
