{
 "cells": [
  {
   "cell_type": "markdown",
   "metadata": {},
   "source": [
    "### SURROUNDING TEXT NEEDS TO BE REVISED\n",
    "The American Gut Project is compiling processing IPython Notebooks of interesting analyses. This index Notebook provides links to the subsequent Notebooks and will be updated as more analyses are added.\n",
    "\n",
    "**Notebooks working with Sequence Data**\n",
    "\n",
    "1. [Get sequences and metadata](primary-processing/1-get_sequences_and_metadata.ipynb)\n",
    "2. [Filter sequences for blooms](primary-processing/2-filter_sequences_for_blooms.ipynb)\n",
    "3. [Pick OTUs](primary-processing/3-pick_otus.ipynb)\n",
    "4. [Prepare metaanalyses](primary-processing/4-prepare_metaanalyses.ipynb)\n",
    "5. [Alpha diversity calculations](primary-processing/5-alpha_diversity.ipynb)\n",
    "6. [Beta diversity calculations](primary-processing/6-beta_diversity.ipynb)\n",
    "7. [Taxonomy summaries](primary-processing/7-taxonomy_summaries.ipynb)\n",
    "8. [Populate participant summaries](primary-processing/8-populate_participant_summaries.ipynb)\n",
    "9. [Generate project wide summary](primary-processing/9-generate_project_wide_summary.ipynb)\n",
    "\n",
    "**OTU Table and Metadata Manipulation**\n",
    "\n",
    "* Preprocessing and Subset Generation [Notebook](Preprocessing.ipynb)\n",
    "\n",
    "**Analyses Across Categories**\n",
    "\n",
    "* Alpha diversity analysis [Notebook](Alpha%20diversity%20notebook.ipynb)\n",
    "* Shared OTUs [Notebook](shared_otus.ipynb)\n",
    "* Statistical Power and Effect Size [Notebook](power.ipynb)"
   ]
  },
  {
   "cell_type": "code",
   "execution_count": null,
   "metadata": {
    "collapsed": true
   },
   "outputs": [],
   "source": []
  }
 ],
 "metadata": {
  "kernelspec": {
   "display_name": "Python 2",
   "language": "python",
   "name": "python2"
  },
  "language_info": {
   "codemirror_mode": {
    "name": "ipython",
    "version": 2
   },
   "file_extension": ".py",
   "mimetype": "text/x-python",
   "name": "python",
   "nbconvert_exporter": "python",
   "pygments_lexer": "ipython2",
   "version": "2.7.10"
  }
 },
 "nbformat": 4,
 "nbformat_minor": 0
}
