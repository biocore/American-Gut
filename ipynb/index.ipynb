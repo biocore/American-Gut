{
 "cells": [
  {
   "cell_type": "markdown",
   "metadata": {},
   "source": [
    "The American Gut Project is compiling processing IPython Notebooks of interesting analyses. This index Notebook provides links to the subsequent Notebooks and will be updated as more analyses are added.\n",
    "\n",
    "**Notebooks working with Sequence Data**\n",
    "\n",
    "* Primary processing pipeline [Notebook](module2_v1.0.ipynb)\n",
    "* Filter bloom sequences [Notebook](FilterAndPickOTUs.ipynb)\n",
    "\n",
    "**OTU Table and Metadata Manipulation**\n",
    "\n",
    "* Preprocessing and Subset Generation [Notebook](Preprocessing.ipynb)\n",
    "\n",
    "**Analyses Across Categories**\n",
    "\n",
    "* Alpha diversity analysis [Notebook](Alpha%20diversity%20notebook.ipynb)\n",
    "* Shared OTUs [Notebook](shared_otus.ipynb)\n",
    "* Statistical Power and Effect Size [Notebook](Power.ipynb)\n",
    "\n",
    "**Category-specific Analyses**\n",
    "\n",
    "* Alcohol Consumption in Healthy Adults [Notebook](Alcohol.ipynb)"
   ]
  }
 ],
 "metadata": {
  "kernelspec": {
   "display_name": "Python 2",
   "language": "python",
   "name": "python2"
  },
  "language_info": {
   "codemirror_mode": {
    "name": "ipython",
    "version": 2
   },
   "file_extension": ".py",
   "mimetype": "text/x-python",
   "name": "python",
   "nbconvert_exporter": "python",
   "pygments_lexer": "ipython2",
   "version": "2.7.3"
  }
 },
 "nbformat": 4,
 "nbformat_minor": 0
}
