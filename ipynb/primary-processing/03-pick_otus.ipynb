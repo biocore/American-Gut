{
 "cells": [
  {
   "cell_type": "markdown",
   "metadata": {},
   "source": [
    "Pick OTUs (for full and trimmed data) at approximately genus level resolution (97% similarity) using SortMeRNA, closed reference against Greengenes 13_8."
   ]
  },
  {
   "cell_type": "code",
   "execution_count": null,
   "metadata": {
    "collapsed": true
   },
   "outputs": [],
   "source": [
    "import os\n",
    "import multiprocessing\n",
    "\n",
    "import americangut.util as agu\n",
    "import americangut.notebook_environment as agenv\n",
    "\n",
    "chp_path = agenv.activate('03-otus')"
   ]
  },
  {
   "cell_type": "markdown",
   "metadata": {},
   "source": [
    "We're going to now setup a parameters file for the OTU picking runs. It is possible to specify a precomputed SortMeRNA index by indicating it's path as the environment variable `$AG_SMR_INDEX`. The reason we're using an environment variable is that it makes it much easier to inject an index during continuous integration testing."
   ]
  },
  {
   "cell_type": "code",
   "execution_count": null,
   "metadata": {
    "collapsed": true
   },
   "outputs": [],
   "source": [
    "_params_file = os.path.join(chp_path, 'sortmerna_pick_params.txt')\n",
    "\n",
    "with open(_params_file, 'w') as f:\n",
    "    f.write(\"pick_otus:otu_picking_method sortmerna\\n\")\n",
    "    f.write(\"pick_otus:threads %d\\n\" % agenv.get_cpu_count())\n",
    "\n",
    "    if agenv.get_sortmerna_index():\n",
    "        f.write(\"pick_otus:sortmerna_db %s\\n\" % agenv.get_sortmerna_index())"
   ]
  },
  {
   "cell_type": "markdown",
   "metadata": {},
   "source": [
    "Determine reference set (in the event of testing)."
   ]
  },
  {
   "cell_type": "code",
   "execution_count": null,
   "metadata": {
    "collapsed": true
   },
   "outputs": [],
   "source": [
    "ref_seqs, ref_tax = agenv.get_reference_set()"
   ]
  },
  {
   "cell_type": "markdown",
   "metadata": {},
   "source": [
    "And now we can actually pick the OTUs. This will take sometime. Note, we're issuing two separate commands as we're picking against the untrimmed and the trimmed data."
   ]
  },
  {
   "cell_type": "code",
   "execution_count": null,
   "metadata": {
    "collapsed": false
   },
   "outputs": [],
   "source": [
    "for trim in ['notrim', '100nt']:\n",
    "    seqs    = agu.get_existing_path(agenv.paths['filtered']['sequences-%s' % trim])\n",
    "    ag_otus = agu.get_new_path(agenv.paths['otus'][trim]['ag'])\n",
    "\n",
    "    !pick_closed_reference_otus.py -i $seqs \\\n",
    "                                   -o $ag_otus \\\n",
    "                                   -r $ref_seqs \\\n",
    "                                   -t $ref_tax \\\n",
    "                                   -p $_params_file"
   ]
  },
  {
   "cell_type": "markdown",
   "metadata": {},
   "source": [
    "And we'll end with some sanity checking of the outputs."
   ]
  },
  {
   "cell_type": "code",
   "execution_count": null,
   "metadata": {
    "collapsed": false
   },
   "outputs": [],
   "source": [
    "for trim in ['notrim', '100nt']:\n",
    "    ag_biom = agu.get_existing_path(agenv.paths['otus'][trim]['ag-biom'])\n",
    "    summary = !biom summarize-table -i $ag_biom\n",
    "    print \"Trim: %s\" % trim\n",
    "    print '\\n'.join(summary[:10])\n",
    "    print\n",
    "    if not float(summary[1].split(': ')[1]) > 0:\n",
    "        raise RunTimeError('%s OTU table did not pick sanely!' % trim)"
   ]
  }
 ],
 "metadata": {
  "kernelspec": {
   "display_name": "Python 2",
   "language": "python",
   "name": "python2"
  },
  "language_info": {
   "codemirror_mode": {
    "name": "ipython",
    "version": 2
   },
   "file_extension": ".py",
   "mimetype": "text/x-python",
   "name": "python",
   "nbconvert_exporter": "python",
   "pygments_lexer": "ipython2",
   "version": "2.7.11"
  }
 },
 "nbformat": 4,
 "nbformat_minor": 0
}
