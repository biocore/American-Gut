{
 "cells": [
  {
   "cell_type": "markdown",
   "metadata": {},
   "source": [
    "<ul><li>American Gut Project\n",
    "</li><li>License: BSD\n",
    "</li><li>Last Update: April 2014\n",
    "</li></ul>"
   ]
  },
  {
   "cell_type": "markdown",
   "metadata": {},
   "source": [
    "The following libraries will need to be installed\n",
    "</li><li><a href=\"https://www.python.org/download/releases/2.7/\">Python 2.7</a>\n",
    "</li><li><a href=\"http://pycogent.org/\">Pycogent 1.5.3</a>\n",
    "</li><li><a href=\"http://picrust.github.io/picrust/install.html#install\">PiCRUST</a>\n",
    "</li><li><a href=\"http://biom-format.org/index.html\">BIOM 1.3.1</a>\n",
    "</li><li><a href=\"http://www.numpy.org/\">Numpy 1.5.1</a>\n",
    "</li><li><a href=\"http://www.scipy.org\">SciPy</a>\n",
    "</li><li><a href=\"http://pandas.pydata.org\">pandas</a>\n",
    "</li><li><a href=\"http://statsmodels.sourceforge.net/\">statsmodels</a>\n",
    "</li><li><a href=\"https://www.gnu.org/software/tar/\">The tar utility</a>\n",
    "</li></ul>\n",
    "\n",
    "It is suggested to install these packages via pip and virtualenv (with the exception of python and picrust)"
   ]
  },
  {
   "cell_type": "markdown",
   "metadata": {},
   "source": [
    "[Picrust](http://www.nature.com/nbt/journal/v31/n9/full/nbt.2676.html) [1]\n",
    "is a tool that estimates metagenome gene abundances just given 16S sequencing data.\n",
    "\n",
    "This is done using phylogenetic infererence. Many of the bacteria mapped in the Greengenes database have full metagenomic profiles.  These metagenomic profiles are typically made up of gene annotations, annotated by [KEGG](http://www.oxfordjournals.org/our_journals/nar/database/summary/112), [COG](http://www.ncbi.nlm.nih.gov/COG/) or [RFAM](http://www.ncbi.nlm.nih.gov/pubmed/12520045). If a bacteria's 16S gene maps to one of the 16S genes in the Greengenes database, it has been shown that that bacteria will have also have a very similar metagenomic profile to the bacteria mapped in the Greengenes database.\n",
    "\n",
    "In this tutorial, we using 16S genes to predict the KEGG proportions in the samples.\n",
    "\n",
    "Note that this methodology is highly reliant on the integrity of the reference phylogenetic tree. Environments with poor bacterial reference genomes such as soil, will not yield meaningful predictions.\n",
    "\n",
    "In this tutorial, we will be applying Picrust to the American Gut dataset to determine if there are significant differences between participants gut bacteria with respect to the number of types of plants consumed and \n",
    "the collection month that the sample was obtained.  This is used as a hypothesis deriving tool and cannot be used to \n",
    "make any conclusions - followup metagenomics surveys will need to be conducted to validate these hypotheses."
   ]
  },
  {
   "cell_type": "markdown",
   "metadata": {},
   "source": [
    "Assuming that all of the packages have been installed properly, we'll proceed to import all of the necessary libraries\n",
    "\n",
    "Note that we are using BIOM 1.1.3 in this analysis, because PICRUSt has not been updated to handle BIOM v2 files yet."
   ]
  },
  {
   "cell_type": "code",
   "execution_count": 71,
   "metadata": {
    "collapsed": false
   },
   "outputs": [],
   "source": [
    "import biom\n",
    "from biom.parse import parse_biom_table\n",
    "import numpy as np\n",
    "import pandas as pd\n",
    "import os, site\n",
    "from scipy.stats.mstats import kruskalwallis\n",
    "from statsmodels.sandbox.stats.multicomp import multipletests\n",
    "from time import strftime, strptime\n",
    "import matplotlib\n",
    "import matplotlib.pyplot as plt\n",
    "from americangut.diversity_analysis import pretty_pandas_boxplot\n",
    "%matplotlib inline"
   ]
  },
  {
   "cell_type": "markdown",
   "metadata": {},
   "source": [
    "All of the data files should have been copied along with this tutorial in the github repository.\n",
    "\n",
    "Assuming that all of the paths to these files haven't changed, we'll decompress the BIOM table."
   ]
  },
  {
   "cell_type": "code",
   "execution_count": 6,
   "metadata": {
    "collapsed": false
   },
   "outputs": [
    {
     "name": "stdout",
     "output_type": "stream",
     "text": [
      "x AG_100nt.json\n"
     ]
    }
   ],
   "source": [
    "!tar -zxvf ../data/AG/AG_100nt.zip -O > ../data/AG/AG_100nt.json"
   ]
  },
  {
   "cell_type": "markdown",
   "metadata": {
    "collapsed": false
   },
   "source": [
    "Before picrust can predict any of the metagenome profiles, it must first normalize by copy number.\n",
    "Some bacterial species have significantly more 16S RNA genes than others.  Species with more 16S genes \n",
    "will be completely over-representing true genes proportions if not accounted for properly.\n",
    "\n",
    "Now lets calculate copy numbers and predict metagenomes.  We do not want to rarefy because we are interested performing statistical calculations on the sample proportions"
   ]
  },
  {
   "cell_type": "code",
   "execution_count": 2,
   "metadata": {
    "collapsed": true
   },
   "outputs": [],
   "source": [
    "raw_file = \"../data/AG/AG_100nt.json\"\n",
    "norm_file = \"picrust/AG_100nt_norm.biom\"\n",
    "metagenomes_file = \"picrust/AG_100nt_metagenomes.biom\"\n",
    "pathways_file = \"picrust/AG_100nt_pathways.biom\""
   ]
  },
  {
   "cell_type": "code",
   "execution_count": 8,
   "metadata": {
    "collapsed": false
   },
   "outputs": [
    {
     "name": "stdout",
     "output_type": "stream",
     "text": [
      "mkdir: picrust: File exists\r\n"
     ]
    }
   ],
   "source": [
    "!mkdir picrust\n",
    "!normalize_by_copy_number.py -i $raw_file -o $norm_file\n",
    "!predict_metagenomes.py -i $norm_file -o $metagenomes_file"
   ]
  },
  {
   "cell_type": "code",
   "execution_count": 231,
   "metadata": {
    "collapsed": true
   },
   "outputs": [],
   "source": [
    "!categorize_by_function.py -i $metagenomes_file -c KEGG_Pathways -l 3 -o $pathways_file"
   ]
  },
  {
   "cell_type": "markdown",
   "metadata": {},
   "source": [
    "Read in all of the metadata and biom tables."
   ]
  },
  {
   "cell_type": "code",
   "execution_count": 3,
   "metadata": {
    "collapsed": false
   },
   "outputs": [],
   "source": [
    "biom_table = parse_biom_table(open(metagenomes_file))"
   ]
  },
  {
   "cell_type": "code",
   "execution_count": 4,
   "metadata": {
    "collapsed": false
   },
   "outputs": [],
   "source": [
    "metadata = pd.read_table(\"../data/AG/AG_100nt.txt\", index_col=0, low_memory=False, na_values=['no_data', 'unknown'])"
   ]
  },
  {
   "cell_type": "markdown",
   "metadata": {},
   "source": [
    "Now, lets convert all of our data into a pandas dataframe to simplify data manipulation"
   ]
  },
  {
   "cell_type": "code",
   "execution_count": 5,
   "metadata": {
    "collapsed": false
   },
   "outputs": [],
   "source": [
    "df = pd.DataFrame()\n",
    "for samp_v, samp_id, samp_md in biom_table.iterSamples():\n",
    "    df[samp_id] = pd.Series(samp_v, index = biom_table.ObservationIds)\n",
    "df = df.transpose()"
   ]
  },
  {
   "cell_type": "markdown",
   "metadata": {},
   "source": [
    "During the sequencing process, there are typically different bacterial species that \n",
    "\n",
    "Let's first filter out some of the rare observed genes"
   ]
  },
  {
   "cell_type": "code",
   "execution_count": 6,
   "metadata": {
    "collapsed": false
   },
   "outputs": [],
   "source": [
    "# Filter out KOs with less than 1000 estimated genes\n",
    "table = df.loc[:, df.sum(axis=0) > 1000]"
   ]
  },
  {
   "cell_type": "markdown",
   "metadata": {},
   "source": [
    "In this notebook, we'll want to only analyze the KEGG abundances within the healthy subset.  This is because some of the variables such as age, diabetes, IBD, antibiotics and body mass index may confound some of the variables that we are interested in.\n",
    "\n",
    "Now let's only consider the heathly subset - using same functionality in Alpha Diversity notebooks."
   ]
  },
  {
   "cell_type": "code",
   "execution_count": 14,
   "metadata": {
    "collapsed": false
   },
   "outputs": [],
   "source": [
    "# Defines the filtering functions for alpha diversity\n",
    "subset_f = {'AGE': lambda x: 19 < x and not np.isnan(x),          \n",
    "            'DIABETES': lambda x: x == 'I do not have diabetes',\n",
    "            'IBD': lambda x: x == 'I do not have IBD',\n",
    "            'ANTIBIOTIC_SELECT': lambda x: x == 'Not in the last year',\n",
    "            'BMI': lambda x: 18.5 <= x < 30 and not np.isnan(x)}\n",
    "\n",
    "# Determines which samples meet the requirements of the categories\n",
    "new_bin = {}\n",
    "for cat, f in subset_f.iteritems():\n",
    "    new_bin[cat] = metadata[cat].apply(f)\n",
    "\n",
    "# Builds up the new binary dataframe\n",
    "bin_frame = pd.DataFrame(new_bin)\n",
    "\n",
    "# Adds a column to the current dataframe to look at the subset\n",
    "bin_series = pd.DataFrame(new_bin).all(1)\n",
    "\n",
    "# Filters the original mapping file so only samples which satisfy the criteria are included in the new metadata file.\n",
    "metadata = metadata.groupby(bin_series).get_group(True)\n",
    "metadata = metadata.loc[metadata['BODY_SITE']=='UBERON:feces']"
   ]
  },
  {
   "cell_type": "markdown",
   "metadata": {},
   "source": [
    "And trim out all samples in table not in metadata and normalize the data so that all of the OTU abundances for each sample adds up to 1."
   ]
  },
  {
   "cell_type": "code",
   "execution_count": 22,
   "metadata": {
    "collapsed": false
   },
   "outputs": [],
   "source": [
    "# Trim out samples not in metadata\n",
    "table = table.loc[metadata.index]\n",
    "# Trims out OTUs that don't have any reads\n",
    "table = table.loc[:,table.sum(axis=0)>0]\n",
    "# Normalize all gene counts\n",
    "table = table.div(table.sum(axis=1), axis=0)"
   ]
  },
  {
   "cell_type": "markdown",
   "metadata": {
    "collapsed": true
   },
   "source": [
    "The first category that we are interested in investigating is types of plants consumed.\n",
    "\n",
    "Its known that raw plant matter contain high abundances of Actinobacteria and Proteobacteria [2].  \n",
    "Some of these bacteria have been hypothesized to be immunoregulatory - or plays a role in regulating the immune system in the human body.\n",
    "\n",
    "To test if this is true, we will first split up the American gut participants according to how many different types of plants they consume a week, and then apply the Kruskal-Wallis test to determine if there is a difference any of the KEGG proportions across any of these groups.\n",
    "\n",
    "There are 5 predetermined different groups assigned: (1) people who eat less than 5 different plants in a week, (2) those who eat 6 to 10 different plants, (3) those who eat 11 to 20 different plants, (4) those who eat 21 to 30 different plants, and (5) those who eat more than 30 plants.\n",
    "\n",
    "If the above hypothesis is correct, then we should expect that there are a few KEGGs that are substantially different between these groups of people, particularly between group (1) and group (5).\n",
    "\n",
    "The Krustal-Wallis test will be run with alpha=0.05.  This means that we won't consider any KEGGs that have a p-value of greater than 0.05.  In this scenario, a p-value of greater than 0.05 means that assuming that a given KEGG has different abundances across these groups, that assumption has a chance of being wrong greater than 5%."
   ]
  },
  {
   "cell_type": "code",
   "execution_count": 23,
   "metadata": {
    "collapsed": true
   },
   "outputs": [],
   "source": [
    "def kw_test(table, metadata, cat, alpha=0.05):\n",
    "    \"\"\"\n",
    "    Performs a Kruskal-Wallis test on all of the genes with respect to metadata groups\n",
    "    \n",
    "    Parameters\n",
    "    ----------\n",
    "    table : pandas.DataFrame\n",
    "        contingency table containing genes proportions for each sample where\n",
    "        rows = samples\n",
    "        columns = gene ids\n",
    "    metadata : pandas.DataFrame\n",
    "        contingency table containing metadata information about each sample where\n",
    "        rows = samples\n",
    "        columns = metadata field (e.g. ZIP code)\n",
    "    cat : string\n",
    "        metadata category.  This will be used to specify the columns in the metadata\n",
    "        \n",
    "    Returns\n",
    "    -------\n",
    "    accepted_keggs : list, tuple\n",
    "        A list of tuples.  Each tuple contains information about\n",
    "        1. kegg id : str\n",
    "           Kegg identifier\n",
    "        2. pvalue : float\n",
    "           Type I error of accepting that kegg is a differientiating kegg\n",
    "        3. reject : bool\n",
    "           Reject if kegg pvalue has a p value less than 5%\n",
    "    \"\"\"\n",
    "    group_indeces = metadata.groupby(cat).groups.values()\n",
    "    f = lambda x: kruskalwallis(*[x.loc[i] for i in group_indeces])\n",
    "    results = table.apply(f, axis=0)\n",
    "    # Don't forget about multiple comparison testing\n",
    "    reject, pvalues, _, _ = multipletests(zip(*results.values)[1], alpha=alpha)\n",
    "    keggs = zip(table.columns, pvalues, reject)\n",
    "    accepted_keggs=filter(lambda x: x[2]==True, keggs)\n",
    "    # Sort ascending with respect to p-value\n",
    "    accepted_keggs=sorted(accepted_keggs, key=lambda x: x[1])\n",
    "    return accepted_keggs"
   ]
  },
  {
   "cell_type": "code",
   "execution_count": 49,
   "metadata": {
    "collapsed": false
   },
   "outputs": [],
   "source": [
    "accepted_plant_keggs = kw_test(table, metadata, \"TYPES_OF_PLANTS\")"
   ]
  },
  {
   "cell_type": "markdown",
   "metadata": {},
   "source": [
    "From the above test, there are 4 detected signficant KEGGs. To visualize the abundances of these KEGGs with respect to the groups, we will create a heatmap.\n",
    "\n",
    "This heatmap will plot the mean abundance for each group and KEGG.\n",
    "\n",
    "Before producing the box plot, we'll want to create a separate dataframe and remove some of the NaNs."
   ]
  },
  {
   "cell_type": "code",
   "execution_count": 69,
   "metadata": {
    "collapsed": true
   },
   "outputs": [],
   "source": [
    "def subset_dataframe(table, metadata, keggs, cat):\n",
    "    \"\"\"\n",
    "    Returns a subset whose columns are specified by the gene names.\n",
    "    Also removes all samples with a null value for the metadata category\n",
    "    \n",
    "    Parameters\n",
    "    ----------\n",
    "    table : pandas.DataFrame\n",
    "        contingency table containing genes proportions for each sample where\n",
    "        rows = samples\n",
    "        columns = gene ids\n",
    "    metadata : pandas.DataFrame\n",
    "        contingency table containing metadata information about each sample where\n",
    "        rows = samples\n",
    "        columns = metadata field (e.g. ZIP code)\n",
    "    keggs : str\n",
    "        The gene in the table that will be copied over to a new pandas DataFrame\n",
    "        for plotting\n",
    "    cat : string\n",
    "        metadata category.  This will be used to specify the columns in the metadata\n",
    "        \n",
    "    Returns\n",
    "    -------\n",
    "    pandas.DataFrame\n",
    "    \"\"\"\n",
    "    df = pd.DataFrame(index=table.index)\n",
    "    df[keggs] = table[keggs]\n",
    "    df[cat] = metadata[cat]\n",
    "    df = df[pd.notnull(metadata[cat])]\n",
    "    return df"
   ]
  },
  {
   "cell_type": "markdown",
   "metadata": {},
   "source": [
    "Now, we'll only extract the KEGGs that were identified as significant from the KEGG table."
   ]
  },
  {
   "cell_type": "code",
   "execution_count": 33,
   "metadata": {
    "collapsed": false
   },
   "outputs": [],
   "source": [
    "plant_keggs = [k[0] for k in accepted_plant_keggs]\n",
    "plant_df = subset_dataframe(table=table,\n",
    "                            metadata=metadata, \n",
    "                            keggs=plant_keggs, \n",
    "                            cat=\"TYPES_OF_PLANTS\")"
   ]
  },
  {
   "cell_type": "markdown",
   "metadata": {},
   "source": [
    "Here, we'll script the heatmap plotting code.\n",
    "\n",
    "We are mainly interested in observing the differences of KEGG abundances across different groups.  So we'll calculate the average proportion of each KEGG along all of the groups, and recenter the KEGG data around these proportions.\n",
    "\n",
    "This is mainly to make it easier to visualize since all of the KEGG abundances are sharing the same set of colors.  Otherwise, some of the high abundance KEGGs would hide some of the interesting features of the other KEGGs."
   ]
  },
  {
   "cell_type": "code",
   "execution_count": 70,
   "metadata": {
    "collapsed": false
   },
   "outputs": [
    {
     "data": {
      "text/plain": [
       "<matplotlib.colorbar.Colorbar instance at 0x10d2c7368>"
      ]
     },
     "execution_count": 70,
     "metadata": {},
     "output_type": "execute_result"
    },
    {
     "data": {
      "image/png": "[encoded data removed]",
      "text/plain": [
       "<matplotlib.figure.Figure at 0x114602c50>"
      ]
     },
     "metadata": {},
     "output_type": "display_data"
    }
   ],
   "source": [
    "num_plant_types = ['Less than 5', '6 to 10', '11 to 20', '21 to 30', 'More than 30']\n",
    "fig, ax = plt.subplots()\n",
    "\n",
    "plant_tables = plant_df.groupby(\"TYPES_OF_PLANTS\")\n",
    "means = plant_tables.aggregate(np.mean)\n",
    "plant_means = means.reindex(num_plant_types)\n",
    "# Center each KEGG around its mean\n",
    "M = plant_means.apply(lambda x: x - np.mean(x),axis=0).as_matrix()\n",
    "im = ax.pcolor(M, cmap=matplotlib.cm.cool)\n",
    "ax.set_xticks(np.arange(plant_means.shape[1])+0.5, minor=False)\n",
    "ax.set_xticklabels(plant_keggs, minor=False)\n",
    "ax.set_yticks(np.arange(plant_means.shape[0])+0.5, minor=False)\n",
    "ax.set_yticklabels(num_plant_types, minor=False)\n",
    "\n",
    "plt.xlabel('KEGGs')\n",
    "plt.xlim([0,plant_means.shape[1]])\n",
    "\n",
    "cbar_ax = fig.add_axes()\n",
    "fig.colorbar(im, cax=cbar_ax)"
   ]
  },
  {
   "cell_type": "markdown",
   "metadata": {},
   "source": [
    "We can notice a couple of interesting things here.\n",
    "\n",
    "Note that K01036 and K03483 are mostly blue.  This indicates that the variance of these KEGGs pale in comparison to the K01487 and K00759.  We can double check this by calculating the variance of each of these KEGGs across all of the groups."
   ]
  },
  {
   "cell_type": "code",
   "execution_count": 74,
   "metadata": {
    "collapsed": false
   },
   "outputs": [
    {
     "data": {
      "text/plain": [
       "K01036    8.919591e-11\n",
       "K01487    9.388517e-09\n",
       "K03483    8.929116e-10\n",
       "K00759    1.700712e-08\n",
       "dtype: float64"
      ]
     },
     "execution_count": 74,
     "metadata": {},
     "output_type": "execute_result"
    }
   ],
   "source": [
    "plant_df.var(axis=0)"
   ]
  },
  {
   "cell_type": "markdown",
   "metadata": {},
   "source": [
    "Another thing to notice is that K01487 and K00759 seem to be inversely correlated - when the proportion of K01487 is high, the proportion of K00759 is low."
   ]
  },
  {
   "cell_type": "markdown",
   "metadata": {},
   "source": [
    "Apparently, both of these KEGGs are involved in nucleotide metabolism.\n",
    "\n",
    "[K01487](http://www.genome.jp/dbget-bin/www_bget?ko:K01487) encodes for [guanine deaminase](http://en.wikipedia.org/wiki/Guanine_deaminase), which converts guanine to xanthine.  Some bacterial species like Bacillus subtilis can use xanthine as a nitrogen source [3].  Bacillus subilis strains are very common in soil environments.  This would go against our intuition, since we would think that people who consume more types of plants should have higher abundances of soil bacteria.  But according to the heatmap, people who consume very few types of plants have higher proportions of enzymes that break down guanine.\n",
    "\n",
    "[K00759](http://www.genome.jp/dbget-bin/www_bget?ko:K00759) encodes for [adenine phosphoribosyltransferase](http://en.wikipedia.org/wiki/Adenine_phosphoribosyltransferase).  This enzyme is critical for recycling free adenines, namely by converting free adenines to AMP [4].  Having a deficiency of this enzyme can cause kidney stones, since the free adenines won't be metabolized.  According to the heatmap, people who consume more types of plants have higher proportions of enzymes that break down adenine."
   ]
  },
  {
   "cell_type": "markdown",
   "metadata": {},
   "source": [
    "It is known that the ecosystem of the gut is a very dynamic system [5].  \n",
    "To determine if there is a significant difference between months, we'll first bin all of the samples according to the collection time that was collected.  Then we will apply the same strategy that we used above."
   ]
  },
  {
   "cell_type": "code",
   "execution_count": 41,
   "metadata": {
    "collapsed": false
   },
   "outputs": [],
   "source": [
    "# Sets up the category parameters\n",
    "category = 'COLLECTION_MONTH'\n",
    "base_cat = 'COLLECTION_DATE'\n",
    "\n",
    "# Sets a function to convert the collection date, if necessary\n",
    "def get_month(date_str):\n",
    "    \"\"\"converts a date to a month string\"\"\"\n",
    "    if len(date_str) > 8:\n",
    "        return strftime('%B', strptime(date_str, '%m/%d/%Y'))\n",
    "    else:\n",
    "        return strftime('%B', strptime(date_str, '%m/%d/%y'))\n",
    "# Converts the collection date\n",
    "if category not in metadata.columns:\n",
    "    metadata[category]= metadata[base_cat].apply(get_month)"
   ]
  },
  {
   "cell_type": "markdown",
   "metadata": {},
   "source": [
    "Since we anticipate the KEGG expression levels to wildly fluctuate over time, we are going to set a really small signficance value to single out KEGGs that are very likely to have different abundances over the months. "
   ]
  },
  {
   "cell_type": "code",
   "execution_count": 75,
   "metadata": {
    "collapsed": false,
    "scrolled": true
   },
   "outputs": [],
   "source": [
    "accepted_month_keggs = kw_test(table, metadata, \"COLLECTION_MONTH\",alpha=10**-7)"
   ]
  },
  {
   "cell_type": "markdown",
   "metadata": {},
   "source": [
    "Now, there are a TON of significant keggs associated with the collection month.  So we'll plot all of these signficiant KEGGs in a heatmap."
   ]
  },
  {
   "cell_type": "code",
   "execution_count": 76,
   "metadata": {
    "collapsed": false
   },
   "outputs": [],
   "source": [
    "month_names = ['January', 'February', 'March', 'April', 'May', 'June', \n",
    "               'July', 'August', 'September', 'October', 'November', \n",
    "               'December']\n",
    "month_keggs = [k[0] for k in accepted_month_keggs]\n",
    "month_df = subset_dataframe(table=table, \n",
    "                            metadata=metadata, \n",
    "                            keggs=month_keggs, \n",
    "                            cat=\"COLLECTION_MONTH\")"
   ]
  },
  {
   "cell_type": "code",
   "execution_count": 77,
   "metadata": {
    "collapsed": false,
    "scrolled": true
   },
   "outputs": [
    {
     "data": {
      "image/png": "[encoded data removed]",
      "text/plain": [
       "<matplotlib.figure.Figure at 0x18a4bc7d0>"
      ]
     },
     "metadata": {},
     "output_type": "display_data"
    }
   ],
   "source": [
    "fig, ax = plt.subplots()\n",
    "\n",
    "month_tables = month_df.groupby(\"COLLECTION_MONTH\")\n",
    "means = month_tables.aggregate(np.mean)\n",
    "month_means = means.reindex(month_names)\n",
    "# Center each KEGG around its mean\n",
    "M = month_means.apply(lambda x: x - np.mean(x),axis=0).as_matrix()\n",
    "ax.pcolor(M, cmap=matplotlib.cm.cool)\n",
    "ax.set_yticks(np.arange(month_means.shape[0])+0.5, minor=False)\n",
    "ax.set_yticklabels(month_names, minor=False)\n",
    "#plt.colorbar()\n",
    "plt.xlabel('KEGGs')\n",
    "plt.xlim([0,month_means.shape[1]])\n",
    "plt.tick_params(\n",
    "    axis='x',          # changes apply to the x-axis\n",
    "    which='both',      # both major and minor ticks are affected\n",
    "    bottom='off',      # ticks along the bottom edge are off\n",
    "    top='off',         # ticks along the top edge are off\n",
    "    labelbottom='off') # labels along the bottom edge are off"
   ]
  },
  {
   "cell_type": "markdown",
   "metadata": {},
   "source": [
    "Let's repeat this analysis with the pathway information"
   ]
  },
  {
   "cell_type": "code",
   "execution_count": 78,
   "metadata": {
    "collapsed": true
   },
   "outputs": [],
   "source": [
    "biom_table = parse_biom_table(open(pathways_file))\n",
    "df = pd.DataFrame()\n",
    "for samp_v, samp_id, samp_md in biom_table.iterSamples():\n",
    "    df[samp_id] = pd.Series(samp_v, index = biom_table.ObservationIds)\n",
    "df = df.transpose()\n",
    "# Filter out pathways with less than 1000 estimated genes\n",
    "pwys = df.loc[:, df.sum(axis=0) > 1000]\n",
    "# Trim out samples not in metadata\n",
    "pwys = pwys.loc[metadata.index]\n",
    "# Normalize all gene counts\n",
    "pwys = pwys.div(table.sum(axis=1), axis=0)"
   ]
  },
  {
   "cell_type": "code",
   "execution_count": 79,
   "metadata": {
    "collapsed": false
   },
   "outputs": [],
   "source": [
    "accepted_month_pwys = kw_test(pwys, metadata, \"COLLECTION_MONTH\",alpha=10**-7)"
   ]
  },
  {
   "cell_type": "code",
   "execution_count": 80,
   "metadata": {
    "collapsed": false
   },
   "outputs": [],
   "source": [
    "month_names = ['January', 'February', 'March', 'April', 'May', 'June', \n",
    "               'July', 'August', 'September', 'October', 'November', \n",
    "               'December']\n",
    "month_pwys = [k[0] for k in accepted_month_pwys]\n",
    "month_df = subset_dataframe(table=pwys,\n",
    "                            metadata=metadata, \n",
    "                            keggs=month_pwys, \n",
    "                            cat=\"COLLECTION_MONTH\")"
   ]
  },
  {
   "cell_type": "code",
   "execution_count": 81,
   "metadata": {
    "collapsed": false
   },
   "outputs": [
    {
     "data": {
      "image/png": "[encoded data removed]",
      "text/plain": [
       "<matplotlib.figure.Figure at 0x10cb4a890>"
      ]
     },
     "metadata": {},
     "output_type": "display_data"
    }
   ],
   "source": [
    "fig, ax = plt.subplots()\n",
    "\n",
    "month_tables = month_df.groupby(\"COLLECTION_MONTH\")\n",
    "means = month_tables.aggregate(np.mean)\n",
    "month_means = means.reindex(month_names)\n",
    "# Center each pathway around its mean\n",
    "M = month_means.apply(lambda x: x - np.mean(x),axis=0).as_matrix().T\n",
    "ax.pcolor(M, cmap=matplotlib.cm.cool)\n",
    "ax.set_yticks(np.arange(month_means.shape[1])+0.5, minor=False)\n",
    "ax.set_yticklabels(month_pwys)\n",
    "ax.set_xticks(np.arange(month_means.shape[0])+0.5, minor=False)\n",
    "ax.set_xticklabels(month_names, minor=False, rotation=90)\n",
    "plt.ylim([0,month_means.shape[1]])\n",
    "fig.savefig('month_pathways.pdf', pad_inches=3)"
   ]
  },
  {
   "cell_type": "code",
   "execution_count": null,
   "metadata": {
    "collapsed": true
   },
   "outputs": [],
   "source": []
  },
  {
   "cell_type": "markdown",
   "metadata": {},
   "source": [
    "# References"
   ]
  },
  {
   "cell_type": "markdown",
   "metadata": {},
   "source": [
    "1. M. Langille, \"Predictive functional profiling of microbial communities using 16S rRNA marker gene sequences\", Nature Biotechnology, 2013\n",
    "2. J. Leff, \"Bacterial Communities Associated with the Surfaces of Fresh Fruits and Vegetables\", PLOS ONE, 2013\n",
    "3. P. Nygaardl, \"Bacillus subtilis guanine deaminase is encoded by the yknA gene and is induced during growth with purines as the nitrogen source\", Microbiology, 2000\n",
    "4. J. Alfonzo, \"APT1, but Not APT2, Codes for a Functional Adenine Phosphoribosyltransferase inSaccharomyces cerevisiae\"\n",
    "5. G. Caporaso, \"Moving pictures of the human microbiome\""
   ]
  }
 ],
 "metadata": {
  "kernelspec": {
   "display_name": "Python 2",
   "language": "python",
   "name": "python2"
  },
  "language_info": {
   "codemirror_mode": {
    "name": "ipython",
    "version": 2
   },
   "file_extension": ".py",
   "mimetype": "text/x-python",
   "name": "python",
   "nbconvert_exporter": "python",
   "pygments_lexer": "ipython2",
   "version": "2.7.5"
  }
 },
 "nbformat": 4,
 "nbformat_minor": 0
}
