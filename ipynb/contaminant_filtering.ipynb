{
 "metadata": {
  "name": "ag_contaminant_filtering"
 },
 "nbformat": 3,
 "nbformat_minor": 0,
 "worksheets": [
  {
   "cells": [
    {
     "cell_type": "markdown",
     "metadata": {},
     "source": [
      "Notebook for filtering the Gammaproteobacteria contaminants from American Gut samples."
     ]
    },
    {
     "cell_type": "markdown",
     "metadata": {},
     "source": [
      "These are the modules we will need for this filtering notebook:"
     ]
    },
    {
     "cell_type": "code",
     "collapsed": false,
     "input": [
      "from os import mkdir, remove, chdir\n",
      "from os.path import join, splitext, abspath\n",
      "from tempfile import mktemp\n",
      "from collections import defaultdict"
     ],
     "language": "python",
     "metadata": {},
     "outputs": [],
     "prompt_number": 1
    },
    {
     "cell_type": "markdown",
     "metadata": {},
     "source": [
      "These are all the filepaths we will be using throughout this notebook. We set them first so that the notebook can be continued easily if it is not run all at once."
     ]
    },
    {
     "cell_type": "code",
     "collapsed": false,
     "input": [
      "# Absolute path for the directory where file input/output will be happening.\n",
      "# Default: the current directory (where this notebook was started)\n",
      "working_directory = abspath('.')\n",
      "\n",
      "# Merged mapping and sequence files\n",
      "merged_sequences_fp = join(working_directory, 'merged_sequences.fna')\n",
      "merged_sequences_fecal_only_fp = join(working_directory, 'merged_sequences_fecal_only.fna')\n",
      "merged_mapping_file_fp = join(working_directory, 'merged_mapping_file.txt')\n",
      "\n",
      "# File paths for the initial round of OTU picking, which is used to determine the most abundant proteobacterial OTUs\n",
      "pick_otus_output_dir = join(working_directory, 'otus')\n",
      "initial_otu_table = join(pick_otus_output_dir, 'otu_table.biom')\n",
      "initial_otu_map = join(pick_otus_output_dir, 'uclust_ref_picked_otus', splitext(merged_sequences_fp)[0]+'_otus.txt')\n",
      "\n",
      "# Files for select_gamma.py, which calculates cumulative abundances\n",
      "gammaproteo_cumulative_abundances_fp = join(working_directory, 'gammaproteo_cumul_abundances.txt')\n",
      "gammaproteo_ids_fp = join(working_directory, 'gammaproteo_ids.txt')\n",
      "\n",
      "# File paths for the second round of OTU picking, where the full set of sequences are clustered using the most\n",
      "# abundant proteobacterial OTUs as a reference\n",
      "contaminants_fp = join(working_directory, 'contaminants.fna')\n",
      "contaminant_picking_dir = join(working_directory, 'contaminant_otus')\n",
      "contaminant_picking_otu_map = join(contaminant_picking_dir, splitext(contaminants_fp)[0]+'.txt')\n",
      "\n",
      "# The final set of output sequences (after contaminant filtering)\n",
      "filtered_sequences_fp = join(working_directory, 'filtered_sequences.fna')\n",
      "\n",
      "# The final round of OTU picking, using the filtered_sequences_fp above\n",
      "filtered_otus_dir = join(working_directory, 'filtered_otus')"
     ],
     "language": "python",
     "metadata": {},
     "outputs": [],
     "prompt_number": 2
    },
    {
     "cell_type": "markdown",
     "metadata": {},
     "source": [
      "The first thing we will need to do is set up the parameters of the filtering.  Enter the paths to the sequence files, the paths to the mapping files, tell the notebook what the working directory should be, and enter the locations of the reference files."
     ]
    },
    {
     "cell_type": "code",
     "collapsed": false,
     "input": [
      "# The reference representative set and taxonomy files\n",
      "reference_rep_set = join('/home', 'shared', 'gg_13_5', 'rep_set', '97_otus.fasta')\n",
      "reference_taxonomy = join('/home', 'shared', 'gg_13_5', 'taxonomy', '97_otu_taxonomy.fasta')\n",
      "\n",
      "# If a single sequence composes at least this fraction of a gammaproteo OTU,\n",
      "# call it a contaminant. Default 0.9\n",
      "contamination_abundance_threshold = 0.9\n",
      "\n",
      "# fill in the paths of the sequence and mapping files here. It will be easiest of these\n",
      "# files are in the working directory specified above\n",
      "sequence_files = ['round5_split_library_seqs.fna', 'round4_split_library_seqs.fna']\n",
      "mapping_files = ['round4_mapping_file.txt', 'round5_mapping_file.txt']"
     ],
     "language": "python",
     "metadata": {},
     "outputs": [],
     "prompt_number": 3
    },
    {
     "cell_type": "markdown",
     "metadata": {},
     "source": [
      "Now, we will merge the sequences files into a single sequence file, and the mapping files into a single mapping file."
     ]
    },
    {
     "cell_type": "code",
     "collapsed": false,
     "input": [
      "chdir(working_directory)\n",
      "\n",
      "# concatenate all sequence files into one merged sequence file. This can take a while!\n",
      "sequence_files_space_separated = ' '.join(sequence_files)\n",
      "!cat $sequence_files_space_separated > $merged_sequences_fp\n",
      "\n",
      "# merge all mapping files into one mapping file\n",
      "mapping_files_comma_separated = ','.join(mapping_files)\n",
      "!merge_mapping_files.py -m $mapping_files_comma_separated -o $merged_mapping_file_fp"
     ],
     "language": "python",
     "metadata": {},
     "outputs": [],
     "prompt_number": 5
    },
    {
     "cell_type": "markdown",
     "metadata": {},
     "source": [
      "When finding proteobacterial contaminants, we want to consider only fecal samples, so we filter our sequences to contain only those that are associated with fecal samples."
     ]
    },
    {
     "cell_type": "code",
     "collapsed": false,
     "input": [
      "!filter_fasta.py -f $merged_sequences_fp -o $merged_sequences_fecal_only_fp --mapping_fp=$merged_mapping_file_fp --valid_states=\"BODY_SITE:UBERON:feces\""
     ],
     "language": "python",
     "metadata": {},
     "outputs": []
    },
    {
     "cell_type": "markdown",
     "metadata": {},
     "source": [
      "The filtering will proceed according to the following steps:\n",
      "\n",
      "1. Identify the most abundant Gammaproteobactia and select the representative sequences from the most abundant, such that the cumulative abundance of remaining Gammaproteobacteria is no greater than 3%\n",
      "2. Find all sequences in the American Gut sequences that map to these OTUs at 97PI\n",
      "3. Of these sequences, if 90% of them are a single unique sequence, treat this sequnence as a contaminant seqeunce\n",
      "4. Create reference database of these contaminant sequences\n",
      "5. Cluster (at 97PI) the full set of American Gut sequence against this reference set of contaminant sequences\n",
      "6. Remove all that map to those contaminant sequences\n",
      "7. Pick OTUs against the standard reference database (Greengenes 13_5 in this case)"
     ]
    },
    {
     "cell_type": "code",
     "collapsed": false,
     "input": [
      "# 1. Identify the most abundant Gammaproteobactia and select the representative sequences from the most abundant,\n",
      "# such that the cumulative abundance of remaining Gammaproteobacteria is no greater than 3%\n",
      "!pick_closed_reference_otus.py -i $merged_sequences_fecal_only_fp -o $pick_otus_output_dir -r $reference_rep_set -t $reference_taxonomy\n",
      "\n",
      "!select_gamma.py -i $initial_otu_table -o $gammaproteo_cumulative_abundances -l 0.03\n",
      "!cut -f 1 $gammaproteo_cumulative_abundances_fp > $gammaproteo_ids_fp"
     ],
     "language": "python",
     "metadata": {},
     "outputs": []
    },
    {
     "cell_type": "markdown",
     "metadata": {},
     "source": [
      "Next, we need to grab all of our sequences that mapped to each of these OTUs"
     ]
    },
    {
     "cell_type": "code",
     "collapsed": false,
     "input": [
      "# Temporary files that will be used with filter_fasta.py\n",
      "temp_fp = mktemp(dir=working_directory, text=True)\n",
      "temp_fna_fp = mktmp(dir=working_directory, text=True)\n",
      "\n",
      "# The IDs generated in the previous step by select_gamma.py\n",
      "gammaproteo_ids = {x.strip() for x in open(gammaproteo_ids_fp, 'U').readlines()}\n",
      "\n",
      "with open(contaminants_fp, 'w') as contaminants_f:\n",
      "    # Go through each line of the OTU map\n",
      "    for otu in open(initial_otu_map, 'U'):\n",
      "        otu_id, sequence_ids = otu.split('\\t', 1)\n",
      "        \n",
      "        # if this OTU ID is one of the gammaproteos we are interested in, do the following\n",
      "        if otu_id in gammaproteo_ids:\n",
      "            # write this OTU out to its own file for use with filter_fasta.py\n",
      "            with open(temp_fp, 'w') as otu_f:\n",
      "                otu_f.write(otu)\n",
      "            \n",
      "            # 2. Find all sequences in the American Gut sequences that map to these OTUs at 97PI by\n",
      "            # grabing the sequences from the original FASTA file using filter_fasta.py\n",
      "            !filter_fasta.py -f $merged_sequences_fp -o $temp_fna_fp -m $temp_fp\n",
      "            \n",
      "            # 3 and 4. Of these sequences, if 90% of them are a single unique sequence, treat this sequnence\n",
      "            # as a contaminant sequence.\n",
      "            total_count = len(sequence_ids.split('\\t'))\n",
      "            unique_counts = defaultdict(int)\n",
      "            \n",
      "            for line in open(temp_fna_fp, 'U'):\n",
      "                line = line.strip()\n",
      "                if not line.startswith('>'):\n",
      "                    unique_counts[line] += 1\n",
      "            \n",
      "            for seq, count in unique_counts:\n",
      "                if float(count)/total_count >= contamination_abundance_threshold:\n",
      "                    contaminants_f.write('>{0}\\n{1}\\n'.format(otu_id, seq))\n",
      "\n",
      "remove(temp_fp)\n",
      "remove(temp_fna_fp)"
     ],
     "language": "python",
     "metadata": {},
     "outputs": []
    },
    {
     "cell_type": "markdown",
     "metadata": {},
     "source": [
      "We can now pick OTUs against this FASTA file, which represents the set of contaminant sequences, to identify all sequences in our original merged FASTA file are likely the result of contamination. We will discard these sequences before picking OTUs against our standard reference set."
     ]
    },
    {
     "cell_type": "code",
     "collapsed": false,
     "input": [
      "# 5. Cluster (at 97PI) the full set of American Gut sequence against this reference set of contaminant sequences\n",
      "!pick_closed_reference_otus.py -i $merged_sequences_fp -o $contaminant_picking_dir -r $contaminants_fp\n",
      "\n",
      "# 6. Remove all that map to those contaminant sequences\n",
      "contaminant_picking_otu_map = join(contaminant_picking_dir, splitext(contaminants_fp)[0]+'.txt')\n",
      "filtered_sequences_fp = join(working_directory, 'filtered_sequences.fna')\n",
      "!filter_fasta.py -f $merged_sequences_fp -m $contaminant_picking_otu_map -o $filtered_sequences_fp\n",
      "\n",
      "# 7. Pick OTUs against the standard reference database\n",
      "filtered_otus_dir = join(working_dir, 'filtered_otus')\n",
      "!pick_closed_reference_otus.py -i $filtered_sequences_fp -o $filtered_otus_dir -r $reference_rep_set -t $reference_taxonomy"
     ],
     "language": "python",
     "metadata": {},
     "outputs": []
    }
   ],
   "metadata": {}
  }
 ]
}